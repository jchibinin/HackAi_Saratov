{
 "cells": [
  {
   "cell_type": "code",
   "execution_count": 250,
   "id": "904841af",
   "metadata": {},
   "outputs": [],
   "source": [
    "import pandas as pd\n",
    "import re\n",
    "from catboost import CatBoostClassifier, CatBoostRegressor, Pool\n",
    "from sklearn.metrics import recall_score\n",
    "from sklearn.model_selection import train_test_split\n",
    "from sklearn.metrics import recall_score\n",
    "import numpy as np"
   ]
  },
  {
   "cell_type": "code",
   "execution_count": 251,
   "id": "cd600954",
   "metadata": {},
   "outputs": [],
   "source": [
    "train = pd.read_csv(\"train_dataset_train.csv\",index_col = 'id')\n",
    "test = pd.read_csv(\"test_dataset_test.csv\",index_col = 'id')"
   ]
  },
  {
   "cell_type": "code",
   "execution_count": 252,
   "id": "4f2a2aa1",
   "metadata": {},
   "outputs": [],
   "source": [
    "test = test.dropna()"
   ]
  },
  {
   "cell_type": "code",
   "execution_count": 253,
   "id": "67898e6f",
   "metadata": {},
   "outputs": [],
   "source": [
    "def clear_text2(text):\n",
    "    text=text.lower()\n",
    "    text = re.findall('[а-я]+',text)\n",
    "    return \" \".join(text)\n",
    "\n",
    "train['name'] = train['name'].apply(clear_text2)\n",
    "test['name'] = test['name'].apply(clear_text2)"
   ]
  },
  {
   "cell_type": "code",
   "execution_count": 254,
   "id": "e8cc4a55",
   "metadata": {},
   "outputs": [
    {
     "data": {
      "text/html": [
       "<div>\n",
       "<style scoped>\n",
       "    .dataframe tbody tr th:only-of-type {\n",
       "        vertical-align: middle;\n",
       "    }\n",
       "\n",
       "    .dataframe tbody tr th {\n",
       "        vertical-align: top;\n",
       "    }\n",
       "\n",
       "    .dataframe thead th {\n",
       "        text-align: right;\n",
       "    }\n",
       "</style>\n",
       "<table border=\"1\" class=\"dataframe\">\n",
       "  <thead>\n",
       "    <tr style=\"text-align: right;\">\n",
       "      <th></th>\n",
       "      <th>name</th>\n",
       "      <th>groups</th>\n",
       "    </tr>\n",
       "    <tr>\n",
       "      <th>id</th>\n",
       "      <th></th>\n",
       "      <th></th>\n",
       "    </tr>\n",
       "  </thead>\n",
       "  <tbody>\n",
       "    <tr>\n",
       "      <th>1034</th>\n",
       "      <td>шок цена пена д душа бритья куппер мл акс</td>\n",
       "      <td>10</td>\n",
       "    </tr>\n",
       "    <tr>\n",
       "      <th>1035</th>\n",
       "      <td>мин вода нагутская л</td>\n",
       "      <td>0</td>\n",
       "    </tr>\n",
       "    <tr>\n",
       "      <th>1036</th>\n",
       "      <td>пельмени домашние вес по прямицино</td>\n",
       "      <td>10</td>\n",
       "    </tr>\n",
       "    <tr>\n",
       "      <th>1037</th>\n",
       "      <td>печенье овсяно гречневое эко бот</td>\n",
       "      <td>10</td>\n",
       "    </tr>\n",
       "    <tr>\n",
       "      <th>1038</th>\n",
       "      <td>спред растительно жировой масляничка г с змж</td>\n",
       "      <td>10</td>\n",
       "    </tr>\n",
       "    <tr>\n",
       "      <th>...</th>\n",
       "      <td>...</td>\n",
       "      <td>...</td>\n",
       "    </tr>\n",
       "    <tr>\n",
       "      <th>659093</th>\n",
       "      <td>карачинская л шт мин вода</td>\n",
       "      <td>0</td>\n",
       "    </tr>\n",
       "    <tr>\n",
       "      <th>659094</th>\n",
       "      <td>хлеб донской г рузский х з</td>\n",
       "      <td>9</td>\n",
       "    </tr>\n",
       "    <tr>\n",
       "      <th>659095</th>\n",
       "      <td>печенье сахарное сэндвич с шоколадно сливочным...</td>\n",
       "      <td>6</td>\n",
       "    </tr>\n",
       "    <tr>\n",
       "      <th>659096</th>\n",
       "      <td>хлеб бабушкин подов пшен кг п уп шхз</td>\n",
       "      <td>9</td>\n",
       "    </tr>\n",
       "    <tr>\n",
       "      <th>659097</th>\n",
       "      <td>газ напиток экстра ситро ст б л</td>\n",
       "      <td>4</td>\n",
       "    </tr>\n",
       "  </tbody>\n",
       "</table>\n",
       "<p>658064 rows × 2 columns</p>\n",
       "</div>"
      ],
      "text/plain": [
       "                                                     name  groups\n",
       "id                                                               \n",
       "1034            шок цена пена д душа бритья куппер мл акс      10\n",
       "1035                                 мин вода нагутская л       0\n",
       "1036                   пельмени домашние вес по прямицино      10\n",
       "1037                     печенье овсяно гречневое эко бот      10\n",
       "1038         спред растительно жировой масляничка г с змж      10\n",
       "...                                                   ...     ...\n",
       "659093                          карачинская л шт мин вода       0\n",
       "659094                         хлеб донской г рузский х з       9\n",
       "659095  печенье сахарное сэндвич с шоколадно сливочным...       6\n",
       "659096               хлеб бабушкин подов пшен кг п уп шхз       9\n",
       "659097                    газ напиток экстра ситро ст б л       4\n",
       "\n",
       "[658064 rows x 2 columns]"
      ]
     },
     "execution_count": 254,
     "metadata": {},
     "output_type": "execute_result"
    }
   ],
   "source": [
    "train"
   ]
  },
  {
   "cell_type": "code",
   "execution_count": 255,
   "id": "1c2d2616",
   "metadata": {},
   "outputs": [],
   "source": [
    "X = train.iloc[:,:-1]\n",
    "y = train.iloc[:,-1].values"
   ]
  },
  {
   "cell_type": "code",
   "execution_count": 256,
   "id": "0446c57b",
   "metadata": {},
   "outputs": [],
   "source": [
    "X_train, X_test, y_train, y_test = train_test_split(X, y, test_size=0.05, random_state=42)\n",
    "\n",
    "X_train, X_eval, y_train, y_eval = train_test_split(X_train, y_train, test_size=0.0015, random_state=42)"
   ]
  },
  {
   "cell_type": "code",
   "execution_count": 257,
   "id": "3ab99fee",
   "metadata": {},
   "outputs": [],
   "source": [
    "pool_train = Pool(X_train, y_train, text_features = ['name'])\n",
    "pool_test = Pool(X_test, y_test, text_features = ['name'])"
   ]
  },
  {
   "cell_type": "code",
   "execution_count": 262,
   "id": "6e942c2e",
   "metadata": {},
   "outputs": [
    {
     "name": "stderr",
     "output_type": "stream",
     "text": [
      "\u001b[32m[I 2022-09-06 13:40:25,440]\u001b[0m A new study created in memory with name: no-name-90389c16-ebf1-4e89-9dd7-6dfc8544f336\u001b[0m\n",
      "C:\\Users\\Yakov\\anaconda3\\lib\\site-packages\\optuna\\progress_bar.py:47: ExperimentalWarning:\n",
      "\n",
      "Progress bar is experimental (supported from v1.2.0). The interface can change in the future.\n",
      "\n"
     ]
    },
    {
     "data": {
      "application/vnd.jupyter.widget-view+json": {
       "model_id": "3aefa7e4f2504dde926b7ead2aa272b2",
       "version_major": 2,
       "version_minor": 0
      },
      "text/plain": [
       "  0%|          | 0/10000 [00:00<?, ?it/s]"
      ]
     },
     "metadata": {},
     "output_type": "display_data"
    },
    {
     "name": "stderr",
     "output_type": "stream",
     "text": [
      "Found only 9 unique classes in the data, but have defined 624222 classes. Probably something is wrong with data.\n"
     ]
    },
    {
     "name": "stdout",
     "output_type": "stream",
     "text": [
      "\u001b[32m[I 2022-09-06 13:42:16,569]\u001b[0m Trial 0 finished with value: 0.9497430112943616 and parameters: {'learning_rate': 0.28, '_depth': 5}. Best is trial 0 with value: 0.9497430112943616.\u001b[0m\n"
     ]
    },
    {
     "name": "stderr",
     "output_type": "stream",
     "text": [
      "Found only 9 unique classes in the data, but have defined 624222 classes. Probably something is wrong with data.\n"
     ]
    },
    {
     "name": "stdout",
     "output_type": "stream",
     "text": [
      "\u001b[32m[I 2022-09-06 13:46:47,428]\u001b[0m Trial 1 finished with value: 0.9698047396894233 and parameters: {'learning_rate': 0.02, '_depth': 9}. Best is trial 1 with value: 0.9698047396894233.\u001b[0m\n"
     ]
    },
    {
     "name": "stderr",
     "output_type": "stream",
     "text": [
      "Found only 9 unique classes in the data, but have defined 624222 classes. Probably something is wrong with data.\n"
     ]
    },
    {
     "name": "stdout",
     "output_type": "stream",
     "text": [
      "\u001b[32m[I 2022-09-06 13:48:49,797]\u001b[0m Trial 2 finished with value: 0.9751653634710996 and parameters: {'learning_rate': 0.24, '_depth': 6}. Best is trial 2 with value: 0.9751653634710996.\u001b[0m\n"
     ]
    },
    {
     "name": "stderr",
     "output_type": "stream",
     "text": [
      "Found only 9 unique classes in the data, but have defined 624222 classes. Probably something is wrong with data.\n"
     ]
    },
    {
     "name": "stdout",
     "output_type": "stream",
     "text": [
      "\u001b[32m[I 2022-09-06 13:50:42,339]\u001b[0m Trial 3 finished with value: 0.9636319001832505 and parameters: {'learning_rate': 0.4, '_depth': 9}. Best is trial 2 with value: 0.9751653634710996.\u001b[0m\n"
     ]
    },
    {
     "name": "stderr",
     "output_type": "stream",
     "text": [
      "Found only 9 unique classes in the data, but have defined 624222 classes. Probably something is wrong with data.\n"
     ]
    },
    {
     "name": "stdout",
     "output_type": "stream",
     "text": [
      "\u001b[32m[I 2022-09-06 13:53:14,351]\u001b[0m Trial 4 finished with value: 0.9678554219506318 and parameters: {'learning_rate': 0.12000000000000001, '_depth': 5}. Best is trial 2 with value: 0.9751653634710996.\u001b[0m\n"
     ]
    },
    {
     "name": "stderr",
     "output_type": "stream",
     "text": [
      "Found only 9 unique classes in the data, but have defined 624222 classes. Probably something is wrong with data.\n"
     ]
    },
    {
     "name": "stdout",
     "output_type": "stream",
     "text": [
      "\u001b[32m[I 2022-09-06 13:55:25,047]\u001b[0m Trial 5 finished with value: 0.9726401109458472 and parameters: {'learning_rate': 0.28, '_depth': 6}. Best is trial 2 with value: 0.9751653634710996.\u001b[0m\n"
     ]
    },
    {
     "name": "stderr",
     "output_type": "stream",
     "text": [
      "Found only 9 unique classes in the data, but have defined 624222 classes. Probably something is wrong with data.\n"
     ]
    },
    {
     "name": "stdout",
     "output_type": "stream",
     "text": [
      "\u001b[32m[I 2022-09-06 13:56:41,227]\u001b[0m Trial 6 finished with value: 0.9556890822562022 and parameters: {'learning_rate': 0.46, '_depth': 3}. Best is trial 2 with value: 0.9751653634710996.\u001b[0m\n"
     ]
    },
    {
     "name": "stderr",
     "output_type": "stream",
     "text": [
      "Found only 9 unique classes in the data, but have defined 624222 classes. Probably something is wrong with data.\n"
     ]
    },
    {
     "name": "stdout",
     "output_type": "stream",
     "text": [
      "\u001b[32m[I 2022-09-06 13:58:22,999]\u001b[0m Trial 7 finished with value: 0.9789079440173468 and parameters: {'learning_rate': 0.30000000000000004, '_depth': 4}. Best is trial 7 with value: 0.9789079440173468.\u001b[0m\n"
     ]
    },
    {
     "name": "stderr",
     "output_type": "stream",
     "text": [
      "Found only 9 unique classes in the data, but have defined 624222 classes. Probably something is wrong with data.\n"
     ]
    },
    {
     "name": "stdout",
     "output_type": "stream",
     "text": [
      "\u001b[32m[I 2022-09-06 14:00:06,503]\u001b[0m Trial 8 finished with value: 0.9630697373896664 and parameters: {'learning_rate': 0.30000000000000004, '_depth': 6}. Best is trial 7 with value: 0.9789079440173468.\u001b[0m\n"
     ]
    },
    {
     "name": "stderr",
     "output_type": "stream",
     "text": [
      "Found only 9 unique classes in the data, but have defined 624222 classes. Probably something is wrong with data.\n"
     ]
    },
    {
     "name": "stdout",
     "output_type": "stream",
     "text": [
      "\u001b[32m[I 2022-09-06 14:02:40,500]\u001b[0m Trial 9 finished with value: 0.9717540574282147 and parameters: {'learning_rate': 0.13999999999999999, '_depth': 8}. Best is trial 7 with value: 0.9789079440173468.\u001b[0m\n"
     ]
    },
    {
     "name": "stderr",
     "output_type": "stream",
     "text": [
      "Found only 9 unique classes in the data, but have defined 624222 classes. Probably something is wrong with data.\n"
     ]
    },
    {
     "name": "stdout",
     "output_type": "stream",
     "text": [
      "\u001b[32m[I 2022-09-06 14:04:24,709]\u001b[0m Trial 10 finished with value: 0.9742773188219669 and parameters: {'learning_rate': 0.4, '_depth': 1}. Best is trial 7 with value: 0.9789079440173468.\u001b[0m\n"
     ]
    },
    {
     "name": "stderr",
     "output_type": "stream",
     "text": [
      "Found only 9 unique classes in the data, but have defined 624222 classes. Probably something is wrong with data.\n"
     ]
    },
    {
     "name": "stdout",
     "output_type": "stream",
     "text": [
      "\u001b[32m[I 2022-09-06 14:06:37,100]\u001b[0m Trial 11 finished with value: 0.9678554219506318 and parameters: {'learning_rate': 0.18, '_depth': 3}. Best is trial 7 with value: 0.9789079440173468.\u001b[0m\n"
     ]
    },
    {
     "name": "stderr",
     "output_type": "stream",
     "text": [
      "Found only 9 unique classes in the data, but have defined 624222 classes. Probably something is wrong with data.\n"
     ]
    },
    {
     "name": "stdout",
     "output_type": "stream",
     "text": [
      "\u001b[32m[I 2022-09-06 14:08:41,461]\u001b[0m Trial 12 finished with value: 0.9771146812098911 and parameters: {'learning_rate': 0.19999999999999998, '_depth': 3}. Best is trial 7 with value: 0.9789079440173468.\u001b[0m\n"
     ]
    },
    {
     "name": "stderr",
     "output_type": "stream",
     "text": [
      "Found only 9 unique classes in the data, but have defined 624222 classes. Probably something is wrong with data.\n"
     ]
    },
    {
     "name": "stdout",
     "output_type": "stream",
     "text": [
      "\u001b[32m[I 2022-09-06 14:10:25,173]\u001b[0m Trial 13 finished with value: 0.9771146812098911 and parameters: {'learning_rate': 0.34, '_depth': 3}. Best is trial 7 with value: 0.9789079440173468.\u001b[0m\n"
     ]
    },
    {
     "name": "stderr",
     "output_type": "stream",
     "text": [
      "Found only 9 unique classes in the data, but have defined 624222 classes. Probably something is wrong with data.\n"
     ]
    },
    {
     "name": "stdout",
     "output_type": "stream",
     "text": [
      "\u001b[32m[I 2022-09-06 14:12:03,162]\u001b[0m Trial 14 finished with value: 0.9358083097882033 and parameters: {'learning_rate': 0.18, '_depth': 1}. Best is trial 7 with value: 0.9789079440173468.\u001b[0m\n"
     ]
    },
    {
     "name": "stderr",
     "output_type": "stream",
     "text": [
      "Found only 9 unique classes in the data, but have defined 624222 classes. Probably something is wrong with data.\n"
     ]
    },
    {
     "name": "stdout",
     "output_type": "stream",
     "text": [
      "\u001b[32m[I 2022-09-06 14:14:50,453]\u001b[0m Trial 15 finished with value: 0.9676993670192959 and parameters: {'learning_rate': 0.06, '_depth': 4}. Best is trial 7 with value: 0.9789079440173468.\u001b[0m\n"
     ]
    },
    {
     "name": "stderr",
     "output_type": "stream",
     "text": [
      "Found only 9 unique classes in the data, but have defined 624222 classes. Probably something is wrong with data.\n"
     ]
    },
    {
     "name": "stdout",
     "output_type": "stream",
     "text": [
      "\u001b[32m[I 2022-09-06 14:16:59,142]\u001b[0m Trial 16 finished with value: 0.9675433120879602 and parameters: {'learning_rate': 0.22, '_depth': 2}. Best is trial 7 with value: 0.9789079440173468.\u001b[0m\n"
     ]
    },
    {
     "name": "stderr",
     "output_type": "stream",
     "text": [
      "Found only 9 unique classes in the data, but have defined 624222 classes. Probably something is wrong with data.\n"
     ]
    },
    {
     "name": "stdout",
     "output_type": "stream",
     "text": [
      "\u001b[32m[I 2022-09-06 14:18:48,558]\u001b[0m Trial 17 finished with value: 0.9763826914920942 and parameters: {'learning_rate': 0.36000000000000004, '_depth': 4}. Best is trial 7 with value: 0.9789079440173468.\u001b[0m\n"
     ]
    },
    {
     "name": "stderr",
     "output_type": "stream",
     "text": [
      "Found only 9 unique classes in the data, but have defined 624222 classes. Probably something is wrong with data.\n"
     ]
    },
    {
     "name": "stdout",
     "output_type": "stream",
     "text": [
      "\u001b[32m[I 2022-09-06 14:20:05,147]\u001b[0m Trial 18 finished with value: 0.8981422790510116 and parameters: {'learning_rate': 0.5, '_depth': 7}. Best is trial 7 with value: 0.9789079440173468.\u001b[0m\n"
     ]
    },
    {
     "name": "stderr",
     "output_type": "stream",
     "text": [
      "Found only 9 unique classes in the data, but have defined 624222 classes. Probably something is wrong with data.\n"
     ]
    },
    {
     "name": "stdout",
     "output_type": "stream",
     "text": [
      "\u001b[32m[I 2022-09-06 14:22:54,757]\u001b[0m Trial 19 finished with value: 0.9769586262785553 and parameters: {'learning_rate': 0.1, '_depth': 4}. Best is trial 7 with value: 0.9789079440173468.\u001b[0m\n"
     ]
    },
    {
     "name": "stderr",
     "output_type": "stream",
     "text": [
      "Found only 9 unique classes in the data, but have defined 624222 classes. Probably something is wrong with data.\n"
     ]
    },
    {
     "name": "stdout",
     "output_type": "stream",
     "text": [
      "\u001b[32m[I 2022-09-06 14:24:32,250]\u001b[0m Trial 20 finished with value: 0.9769586262785553 and parameters: {'learning_rate': 0.32, '_depth': 2}. Best is trial 7 with value: 0.9789079440173468.\u001b[0m\n"
     ]
    },
    {
     "name": "stderr",
     "output_type": "stream",
     "text": [
      "Found only 9 unique classes in the data, but have defined 624222 classes. Probably something is wrong with data.\n"
     ]
    },
    {
     "name": "stdout",
     "output_type": "stream",
     "text": [
      "\u001b[32m[I 2022-09-06 14:26:15,719]\u001b[0m Trial 21 finished with value: 0.9771146812098911 and parameters: {'learning_rate': 0.34, '_depth': 3}. Best is trial 7 with value: 0.9789079440173468.\u001b[0m\n"
     ]
    },
    {
     "name": "stderr",
     "output_type": "stream",
     "text": [
      "Found only 9 unique classes in the data, but have defined 624222 classes. Probably something is wrong with data.\n"
     ]
    },
    {
     "name": "stdout",
     "output_type": "stream",
     "text": [
      "\u001b[32m[I 2022-09-06 14:27:47,172]\u001b[0m Trial 22 finished with value: 0.9653301694253794 and parameters: {'learning_rate': 0.36000000000000004, '_depth': 2}. Best is trial 7 with value: 0.9789079440173468.\u001b[0m\n"
     ]
    },
    {
     "name": "stderr",
     "output_type": "stream",
     "text": [
      "Found only 9 unique classes in the data, but have defined 624222 classes. Probably something is wrong with data.\n"
     ]
    },
    {
     "name": "stdout",
     "output_type": "stream",
     "text": [
      "\u001b[32m[I 2022-09-06 14:29:43,758]\u001b[0m Trial 23 finished with value: 0.9678554219506318 and parameters: {'learning_rate': 0.24, '_depth': 4}. Best is trial 7 with value: 0.9789079440173468.\u001b[0m\n"
     ]
    },
    {
     "name": "stderr",
     "output_type": "stream",
     "text": [
      "Found only 9 unique classes in the data, but have defined 624222 classes. Probably something is wrong with data.\n"
     ]
    },
    {
     "name": "stdout",
     "output_type": "stream",
     "text": [
      "\u001b[32m[I 2022-09-06 14:31:24,630]\u001b[0m Trial 24 finished with value: 0.9771146812098911 and parameters: {'learning_rate': 0.34, '_depth': 3}. Best is trial 7 with value: 0.9789079440173468.\u001b[0m\n"
     ]
    },
    {
     "name": "stderr",
     "output_type": "stream",
     "text": [
      "Found only 9 unique classes in the data, but have defined 624222 classes. Probably something is wrong with data.\n"
     ]
    },
    {
     "name": "stdout",
     "output_type": "stream",
     "text": [
      "\u001b[32m[I 2022-09-06 14:33:35,014]\u001b[0m Trial 25 finished with value: 0.9790639989486826 and parameters: {'learning_rate': 0.19999999999999998, '_depth': 5}. Best is trial 25 with value: 0.9790639989486826.\u001b[0m\n"
     ]
    },
    {
     "name": "stderr",
     "output_type": "stream",
     "text": [
      "Found only 9 unique classes in the data, but have defined 624222 classes. Probably something is wrong with data.\n"
     ]
    },
    {
     "name": "stdout",
     "output_type": "stream",
     "text": [
      "\u001b[32m[I 2022-09-06 14:34:54,358]\u001b[0m Trial 26 finished with value: 0.953041232920003 and parameters: {'learning_rate': 0.4, '_depth': 5}. Best is trial 25 with value: 0.9790639989486826.\u001b[0m\n"
     ]
    },
    {
     "name": "stderr",
     "output_type": "stream",
     "text": [
      "Found only 9 unique classes in the data, but have defined 624222 classes. Probably something is wrong with data.\n"
     ]
    },
    {
     "name": "stdout",
     "output_type": "stream",
     "text": [
      "\u001b[32m[I 2022-09-06 14:36:36,143]\u001b[0m Trial 27 finished with value: 0.9771146812098911 and parameters: {'learning_rate': 0.26, '_depth': 7}. Best is trial 25 with value: 0.9790639989486826.\u001b[0m\n"
     ]
    },
    {
     "name": "stderr",
     "output_type": "stream",
     "text": [
      "Found only 9 unique classes in the data, but have defined 624222 classes. Probably something is wrong with data.\n"
     ]
    },
    {
     "name": "stdout",
     "output_type": "stream",
     "text": [
      "\u001b[32m[I 2022-09-06 14:38:58,623]\u001b[0m Trial 28 finished with value: 0.9658364857211694 and parameters: {'learning_rate': 0.44, '_depth': 10}. Best is trial 25 with value: 0.9790639989486826.\u001b[0m\n"
     ]
    },
    {
     "name": "stderr",
     "output_type": "stream",
     "text": [
      "Found only 9 unique classes in the data, but have defined 624222 classes. Probably something is wrong with data.\n"
     ]
    },
    {
     "name": "stdout",
     "output_type": "stream",
     "text": [
      "\u001b[32m[I 2022-09-06 14:40:46,623]\u001b[0m Trial 29 finished with value: 0.9497430112943616 and parameters: {'learning_rate': 0.28, '_depth': 5}. Best is trial 25 with value: 0.9790639989486826.\u001b[0m\n"
     ]
    },
    {
     "name": "stderr",
     "output_type": "stream",
     "text": [
      "Found only 9 unique classes in the data, but have defined 624222 classes. Probably something is wrong with data.\n"
     ]
    },
    {
     "name": "stdout",
     "output_type": "stream",
     "text": [
      "\u001b[32m[I 2022-09-06 14:43:19,609]\u001b[0m Trial 30 finished with value: 0.9769586262785553 and parameters: {'learning_rate': 0.16, '_depth': 5}. Best is trial 25 with value: 0.9790639989486826.\u001b[0m\n"
     ]
    },
    {
     "name": "stderr",
     "output_type": "stream",
     "text": [
      "Found only 9 unique classes in the data, but have defined 624222 classes. Probably something is wrong with data.\n"
     ]
    },
    {
     "name": "stdout",
     "output_type": "stream",
     "text": [
      "\u001b[32m[I 2022-09-06 14:45:19,920]\u001b[0m Trial 31 finished with value: 0.9771146812098911 and parameters: {'learning_rate': 0.24, '_depth': 7}. Best is trial 25 with value: 0.9790639989486826.\u001b[0m\n"
     ]
    },
    {
     "name": "stderr",
     "output_type": "stream",
     "text": [
      "Found only 9 unique classes in the data, but have defined 624222 classes. Probably something is wrong with data.\n"
     ]
    },
    {
     "name": "stdout",
     "output_type": "stream",
     "text": [
      "\u001b[32m[I 2022-09-06 14:47:18,123]\u001b[0m Trial 32 finished with value: 0.9678554219506318 and parameters: {'learning_rate': 0.22, '_depth': 7}. Best is trial 25 with value: 0.9790639989486826.\u001b[0m\n"
     ]
    },
    {
     "name": "stderr",
     "output_type": "stream",
     "text": [
      "Found only 9 unique classes in the data, but have defined 624222 classes. Probably something is wrong with data.\n"
     ]
    },
    {
     "name": "stdout",
     "output_type": "stream",
     "text": [
      "\u001b[32m[I 2022-09-06 14:49:15,035]\u001b[0m Trial 33 finished with value: 0.9698047396894233 and parameters: {'learning_rate': 0.30000000000000004, '_depth': 8}. Best is trial 25 with value: 0.9790639989486826.\u001b[0m\n"
     ]
    },
    {
     "name": "stderr",
     "output_type": "stream",
     "text": [
      "Found only 9 unique classes in the data, but have defined 624222 classes. Probably something is wrong with data.\n"
     ]
    },
    {
     "name": "stdout",
     "output_type": "stream",
     "text": [
      "\u001b[32m[I 2022-09-06 14:51:23,873]\u001b[0m Trial 34 finished with value: 0.9790639989486826 and parameters: {'learning_rate': 0.26, '_depth': 7}. Best is trial 25 with value: 0.9790639989486826.\u001b[0m\n"
     ]
    },
    {
     "name": "stderr",
     "output_type": "stream",
     "text": [
      "Found only 9 unique classes in the data, but have defined 624222 classes. Probably something is wrong with data.\n"
     ]
    },
    {
     "name": "stdout",
     "output_type": "stream",
     "text": [
      "\u001b[32m[I 2022-09-06 14:53:33,427]\u001b[0m Trial 35 finished with value: 0.9659061042118405 and parameters: {'learning_rate': 0.24, '_depth': 8}. Best is trial 25 with value: 0.9790639989486826.\u001b[0m\n"
     ]
    },
    {
     "name": "stderr",
     "output_type": "stream",
     "text": [
      "Found only 9 unique classes in the data, but have defined 624222 classes. Probably something is wrong with data.\n"
     ]
    },
    {
     "name": "stdout",
     "output_type": "stream",
     "text": [
      "\u001b[32m[I 2022-09-06 14:55:33,420]\u001b[0m Trial 36 finished with value: 0.9678554219506318 and parameters: {'learning_rate': 0.19999999999999998, '_depth': 6}. Best is trial 25 with value: 0.9790639989486826.\u001b[0m\n"
     ]
    },
    {
     "name": "stderr",
     "output_type": "stream",
     "text": [
      "Found only 9 unique classes in the data, but have defined 624222 classes. Probably something is wrong with data.\n"
     ]
    },
    {
     "name": "stdout",
     "output_type": "stream",
     "text": [
      "\u001b[32m[I 2022-09-06 14:57:25,100]\u001b[0m Trial 37 finished with value: 0.9676993670192959 and parameters: {'learning_rate': 0.28, '_depth': 4}. Best is trial 25 with value: 0.9790639989486826.\u001b[0m\n"
     ]
    },
    {
     "name": "stderr",
     "output_type": "stream",
     "text": [
      "Found only 9 unique classes in the data, but have defined 624222 classes. Probably something is wrong with data.\n"
     ]
    },
    {
     "name": "stdout",
     "output_type": "stream",
     "text": [
      "\u001b[32m[I 2022-09-06 15:00:18,843]\u001b[0m Trial 38 finished with value: 0.9696486847580874 and parameters: {'learning_rate': 0.1, '_depth': 6}. Best is trial 25 with value: 0.9790639989486826.\u001b[0m\n"
     ]
    },
    {
     "name": "stderr",
     "output_type": "stream",
     "text": [
      "Found only 9 unique classes in the data, but have defined 624222 classes. Probably something is wrong with data.\n"
     ]
    },
    {
     "name": "stdout",
     "output_type": "stream",
     "text": [
      "\u001b[32m[I 2022-09-06 15:02:08,807]\u001b[0m Trial 39 finished with value: 0.9745894286846385 and parameters: {'learning_rate': 0.32, '_depth': 5}. Best is trial 25 with value: 0.9790639989486826.\u001b[0m\n"
     ]
    },
    {
     "name": "stderr",
     "output_type": "stream",
     "text": [
      "Found only 9 unique classes in the data, but have defined 624222 classes. Probably something is wrong with data.\n"
     ]
    },
    {
     "name": "stdout",
     "output_type": "stream",
     "text": [
      "\u001b[32m[I 2022-09-06 15:04:31,471]\u001b[0m Trial 40 finished with value: 0.9790639989486826 and parameters: {'learning_rate': 0.26, '_depth': 9}. Best is trial 25 with value: 0.9790639989486826.\u001b[0m\n"
     ]
    },
    {
     "name": "stderr",
     "output_type": "stream",
     "text": [
      "Found only 9 unique classes in the data, but have defined 624222 classes. Probably something is wrong with data.\n"
     ]
    },
    {
     "name": "stdout",
     "output_type": "stream",
     "text": [
      "\u001b[32m[I 2022-09-06 15:06:44,051]\u001b[0m Trial 41 finished with value: 0.981013316687474 and parameters: {'learning_rate': 0.26, '_depth': 9}. Best is trial 41 with value: 0.981013316687474.\u001b[0m\n"
     ]
    },
    {
     "name": "stderr",
     "output_type": "stream",
     "text": [
      "Found only 9 unique classes in the data, but have defined 624222 classes. Probably something is wrong with data.\n"
     ]
    },
    {
     "name": "stdout",
     "output_type": "stream",
     "text": [
      "\u001b[32m[I 2022-09-06 15:09:40,134]\u001b[0m Trial 42 finished with value: 0.9698047396894233 and parameters: {'learning_rate': 0.26, '_depth': 10}. Best is trial 41 with value: 0.981013316687474.\u001b[0m\n"
     ]
    },
    {
     "name": "stderr",
     "output_type": "stream",
     "text": [
      "Found only 9 unique classes in the data, but have defined 624222 classes. Probably something is wrong with data.\n"
     ]
    },
    {
     "name": "stdout",
     "output_type": "stream",
     "text": [
      "\u001b[32m[I 2022-09-06 15:11:37,555]\u001b[0m Trial 43 finished with value: 0.9698047396894233 and parameters: {'learning_rate': 0.30000000000000004, '_depth': 9}. Best is trial 41 with value: 0.981013316687474.\u001b[0m\n"
     ]
    },
    {
     "name": "stderr",
     "output_type": "stream",
     "text": [
      "Found only 9 unique classes in the data, but have defined 624222 classes. Probably something is wrong with data.\n"
     ]
    },
    {
     "name": "stdout",
     "output_type": "stream",
     "text": [
      "\u001b[32m[I 2022-09-06 15:14:08,551]\u001b[0m Trial 44 finished with value: 0.9698047396894233 and parameters: {'learning_rate': 0.19999999999999998, '_depth': 9}. Best is trial 41 with value: 0.981013316687474.\u001b[0m\n"
     ]
    },
    {
     "name": "stderr",
     "output_type": "stream",
     "text": [
      "Found only 9 unique classes in the data, but have defined 624222 classes. Probably something is wrong with data.\n"
     ]
    },
    {
     "name": "stdout",
     "output_type": "stream",
     "text": [
      "\u001b[32m[I 2022-09-06 15:17:14,695]\u001b[0m Trial 45 finished with value: 0.9698047396894233 and parameters: {'learning_rate': 0.13999999999999999, '_depth': 9}. Best is trial 41 with value: 0.981013316687474.\u001b[0m\n"
     ]
    },
    {
     "name": "stderr",
     "output_type": "stream",
     "text": [
      "Found only 9 unique classes in the data, but have defined 624222 classes. Probably something is wrong with data.\n"
     ]
    },
    {
     "name": "stdout",
     "output_type": "stream",
     "text": [
      "\u001b[32m[I 2022-09-06 15:19:29,544]\u001b[0m Trial 46 finished with value: 0.9678554219506318 and parameters: {'learning_rate': 0.26, '_depth': 8}. Best is trial 41 with value: 0.981013316687474.\u001b[0m\n"
     ]
    },
    {
     "name": "stderr",
     "output_type": "stream",
     "text": [
      "Found only 9 unique classes in the data, but have defined 624222 classes. Probably something is wrong with data.\n"
     ]
    },
    {
     "name": "stdout",
     "output_type": "stream",
     "text": [
      "\u001b[32m[I 2022-09-06 15:22:31,655]\u001b[0m Trial 47 finished with value: 0.9698047396894233 and parameters: {'learning_rate': 0.22, '_depth': 10}. Best is trial 41 with value: 0.981013316687474.\u001b[0m\n"
     ]
    },
    {
     "name": "stderr",
     "output_type": "stream",
     "text": [
      "Found only 9 unique classes in the data, but have defined 624222 classes. Probably something is wrong with data.\n"
     ]
    },
    {
     "name": "stdout",
     "output_type": "stream",
     "text": [
      "\u001b[32m[I 2022-09-06 15:24:46,092]\u001b[0m Trial 48 finished with value: 0.9698047396894233 and parameters: {'learning_rate': 0.18, '_depth': 8}. Best is trial 41 with value: 0.981013316687474.\u001b[0m\n"
     ]
    },
    {
     "name": "stderr",
     "output_type": "stream",
     "text": [
      "Found only 9 unique classes in the data, but have defined 624222 classes. Probably something is wrong with data.\n"
     ]
    },
    {
     "name": "stdout",
     "output_type": "stream",
     "text": [
      "\u001b[32m[I 2022-09-06 15:26:23,970]\u001b[0m Trial 49 finished with value: 0.9607005397957497 and parameters: {'learning_rate': 0.38, '_depth': 6}. Best is trial 41 with value: 0.981013316687474.\u001b[0m\n"
     ]
    },
    {
     "name": "stderr",
     "output_type": "stream",
     "text": [
      "Found only 9 unique classes in the data, but have defined 624222 classes. Probably something is wrong with data.\n"
     ]
    },
    {
     "name": "stdout",
     "output_type": "stream",
     "text": [
      "\u001b[32m[I 2022-09-06 15:29:03,082]\u001b[0m Trial 50 finished with value: 0.9698047396894233 and parameters: {'learning_rate': 0.28, '_depth': 10}. Best is trial 41 with value: 0.981013316687474.\u001b[0m\n"
     ]
    },
    {
     "name": "stderr",
     "output_type": "stream",
     "text": [
      "Found only 9 unique classes in the data, but have defined 624222 classes. Probably something is wrong with data.\n"
     ]
    },
    {
     "name": "stdout",
     "output_type": "stream",
     "text": [
      "\u001b[32m[I 2022-09-06 15:31:14,223]\u001b[0m Trial 51 finished with value: 0.9698047396894233 and parameters: {'learning_rate': 0.32, '_depth': 9}. Best is trial 41 with value: 0.981013316687474.\u001b[0m\n"
     ]
    },
    {
     "name": "stderr",
     "output_type": "stream",
     "text": [
      "Found only 9 unique classes in the data, but have defined 624222 classes. Probably something is wrong with data.\n"
     ]
    },
    {
     "name": "stdout",
     "output_type": "stream",
     "text": [
      "\u001b[32m[I 2022-09-06 15:32:52,505]\u001b[0m Trial 52 finished with value: 0.9696486847580874 and parameters: {'learning_rate': 0.34, '_depth': 4}. Best is trial 41 with value: 0.981013316687474.\u001b[0m\n"
     ]
    },
    {
     "name": "stderr",
     "output_type": "stream",
     "text": [
      "Found only 9 unique classes in the data, but have defined 624222 classes. Probably something is wrong with data.\n"
     ]
    },
    {
     "name": "stdout",
     "output_type": "stream",
     "text": [
      "\u001b[32m[I 2022-09-06 15:35:02,903]\u001b[0m Trial 53 finished with value: 0.9717540574282147 and parameters: {'learning_rate': 0.24, '_depth': 9}. Best is trial 41 with value: 0.981013316687474.\u001b[0m\n"
     ]
    },
    {
     "name": "stderr",
     "output_type": "stream",
     "text": [
      "Found only 9 unique classes in the data, but have defined 624222 classes. Probably something is wrong with data.\n"
     ]
    },
    {
     "name": "stdout",
     "output_type": "stream",
     "text": [
      "\u001b[32m[I 2022-09-06 15:36:53,109]\u001b[0m Trial 54 finished with value: 0.9790639989486826 and parameters: {'learning_rate': 0.30000000000000004, '_depth': 3}. Best is trial 41 with value: 0.981013316687474.\u001b[0m\n"
     ]
    },
    {
     "name": "stderr",
     "output_type": "stream",
     "text": [
      "Found only 9 unique classes in the data, but have defined 624222 classes. Probably something is wrong with data.\n"
     ]
    },
    {
     "name": "stdout",
     "output_type": "stream",
     "text": [
      "\u001b[32m[I 2022-09-06 15:38:37,515]\u001b[0m Trial 55 finished with value: 0.9771146812098911 and parameters: {'learning_rate': 0.30000000000000004, '_depth': 2}. Best is trial 41 with value: 0.981013316687474.\u001b[0m\n"
     ]
    },
    {
     "name": "stderr",
     "output_type": "stream",
     "text": [
      "Found only 9 unique classes in the data, but have defined 624222 classes. Probably something is wrong with data.\n"
     ]
    },
    {
     "name": "stdout",
     "output_type": "stream",
     "text": [
      "\u001b[32m[I 2022-09-06 15:40:20,193]\u001b[0m Trial 56 finished with value: 0.9538104781304071 and parameters: {'learning_rate': 0.26, '_depth': 4}. Best is trial 41 with value: 0.981013316687474.\u001b[0m\n"
     ]
    },
    {
     "name": "stderr",
     "output_type": "stream",
     "text": [
      "Found only 9 unique classes in the data, but have defined 624222 classes. Probably something is wrong with data.\n"
     ]
    },
    {
     "name": "stdout",
     "output_type": "stream",
     "text": [
      "\u001b[32m[I 2022-09-06 15:42:07,779]\u001b[0m Trial 57 finished with value: 0.9678554219506318 and parameters: {'learning_rate': 0.22, '_depth': 3}. Best is trial 41 with value: 0.981013316687474.\u001b[0m\n"
     ]
    },
    {
     "name": "stderr",
     "output_type": "stream",
     "text": [
      "Found only 9 unique classes in the data, but have defined 624222 classes. Probably something is wrong with data.\n"
     ]
    },
    {
     "name": "stdout",
     "output_type": "stream",
     "text": [
      "\u001b[32m[I 2022-09-06 15:45:00,147]\u001b[0m Trial 58 finished with value: 0.9675433120879602 and parameters: {'learning_rate': 0.02, '_depth': 5}. Best is trial 41 with value: 0.981013316687474.\u001b[0m\n"
     ]
    },
    {
     "name": "stderr",
     "output_type": "stream",
     "text": [
      "Found only 9 unique classes in the data, but have defined 624222 classes. Probably something is wrong with data.\n"
     ]
    },
    {
     "name": "stdout",
     "output_type": "stream",
     "text": [
      "\u001b[32m[I 2022-09-06 15:47:02,673]\u001b[0m Trial 59 finished with value: 0.9698047396894233 and parameters: {'learning_rate': 0.30000000000000004, '_depth': 7}. Best is trial 41 with value: 0.981013316687474.\u001b[0m\n"
     ]
    },
    {
     "name": "stderr",
     "output_type": "stream",
     "text": [
      "Found only 9 unique classes in the data, but have defined 624222 classes. Probably something is wrong with data.\n"
     ]
    },
    {
     "name": "stdout",
     "output_type": "stream",
     "text": [
      "\u001b[32m[I 2022-09-06 15:49:21,885]\u001b[0m Trial 60 finished with value: 0.9771146812098911 and parameters: {'learning_rate': 0.16, '_depth': 3}. Best is trial 41 with value: 0.981013316687474.\u001b[0m\n"
     ]
    },
    {
     "name": "stderr",
     "output_type": "stream",
     "text": [
      "Found only 9 unique classes in the data, but have defined 624222 classes. Probably something is wrong with data.\n"
     ]
    },
    {
     "name": "stdout",
     "output_type": "stream",
     "text": [
      "\u001b[32m[I 2022-09-06 15:51:54,400]\u001b[0m Trial 61 finished with value: 0.9771146812098911 and parameters: {'learning_rate': 0.16, '_depth': 3}. Best is trial 41 with value: 0.981013316687474.\u001b[0m\n"
     ]
    },
    {
     "name": "stderr",
     "output_type": "stream",
     "text": [
      "Found only 9 unique classes in the data, but have defined 624222 classes. Probably something is wrong with data.\n"
     ]
    },
    {
     "name": "stdout",
     "output_type": "stream",
     "text": [
      "\u001b[32m[I 2022-09-06 15:54:11,672]\u001b[0m Trial 62 finished with value: 0.9769586262785553 and parameters: {'learning_rate': 0.16, '_depth': 2}. Best is trial 41 with value: 0.981013316687474.\u001b[0m\n"
     ]
    },
    {
     "name": "stderr",
     "output_type": "stream",
     "text": [
      "Found only 9 unique classes in the data, but have defined 624222 classes. Probably something is wrong with data.\n"
     ]
    },
    {
     "name": "stdout",
     "output_type": "stream",
     "text": [
      "\u001b[32m[I 2022-09-06 15:55:58,488]\u001b[0m Trial 63 finished with value: 0.9676993670192959 and parameters: {'learning_rate': 0.24, '_depth': 7}. Best is trial 41 with value: 0.981013316687474.\u001b[0m\n"
     ]
    },
    {
     "name": "stderr",
     "output_type": "stream",
     "text": [
      "Found only 9 unique classes in the data, but have defined 624222 classes. Probably something is wrong with data.\n"
     ]
    },
    {
     "name": "stdout",
     "output_type": "stream",
     "text": [
      "\u001b[32m[I 2022-09-06 15:57:38,305]\u001b[0m Trial 64 finished with value: 0.9672794871641707 and parameters: {'learning_rate': 0.36000000000000004, '_depth': 4}. Best is trial 41 with value: 0.981013316687474.\u001b[0m\n"
     ]
    },
    {
     "name": "stderr",
     "output_type": "stream",
     "text": [
      "Found only 9 unique classes in the data, but have defined 624222 classes. Probably something is wrong with data.\n"
     ]
    },
    {
     "name": "stdout",
     "output_type": "stream",
     "text": [
      "\u001b[32m[I 2022-09-06 15:59:19,128]\u001b[0m Trial 65 finished with value: 0.9492180044368099 and parameters: {'learning_rate': 0.28, '_depth': 1}. Best is trial 41 with value: 0.981013316687474.\u001b[0m\n"
     ]
    },
    {
     "name": "stderr",
     "output_type": "stream",
     "text": [
      "Found only 9 unique classes in the data, but have defined 624222 classes. Probably something is wrong with data.\n"
     ]
    },
    {
     "name": "stdout",
     "output_type": "stream",
     "text": [
      "\u001b[32m[I 2022-09-06 16:01:52,821]\u001b[0m Trial 66 finished with value: 0.9676993670192959 and parameters: {'learning_rate': 0.1, '_depth': 3}. Best is trial 41 with value: 0.981013316687474.\u001b[0m\n"
     ]
    },
    {
     "name": "stderr",
     "output_type": "stream",
     "text": [
      "Found only 9 unique classes in the data, but have defined 624222 classes. Probably something is wrong with data.\n"
     ]
    },
    {
     "name": "stdout",
     "output_type": "stream",
     "text": [
      "\u001b[32m[I 2022-09-06 16:03:40,366]\u001b[0m Trial 67 finished with value: 0.9709418417037183 and parameters: {'learning_rate': 0.26, '_depth': 6}. Best is trial 41 with value: 0.981013316687474.\u001b[0m\n"
     ]
    },
    {
     "name": "stderr",
     "output_type": "stream",
     "text": [
      "Found only 9 unique classes in the data, but have defined 624222 classes. Probably something is wrong with data.\n"
     ]
    },
    {
     "name": "stdout",
     "output_type": "stream",
     "text": [
      "\u001b[32m[I 2022-09-06 16:05:21,434]\u001b[0m Trial 68 finished with value: 0.9696486847580874 and parameters: {'learning_rate': 0.34, '_depth': 4}. Best is trial 41 with value: 0.981013316687474.\u001b[0m\n"
     ]
    },
    {
     "name": "stderr",
     "output_type": "stream",
     "text": [
      "Found only 9 unique classes in the data, but have defined 624222 classes. Probably something is wrong with data.\n"
     ]
    },
    {
     "name": "stdout",
     "output_type": "stream",
     "text": [
      "\u001b[32m[I 2022-09-06 16:07:43,946]\u001b[0m Trial 69 finished with value: 0.9771146812098911 and parameters: {'learning_rate': 0.18, '_depth': 5}. Best is trial 41 with value: 0.981013316687474.\u001b[0m\n"
     ]
    },
    {
     "name": "stderr",
     "output_type": "stream",
     "text": [
      "Found only 9 unique classes in the data, but have defined 624222 classes. Probably something is wrong with data.\n"
     ]
    },
    {
     "name": "stdout",
     "output_type": "stream",
     "text": [
      "\u001b[32m[I 2022-09-06 16:10:00,844]\u001b[0m Trial 70 finished with value: 0.9675433120879602 and parameters: {'learning_rate': 0.13999999999999999, '_depth': 2}. Best is trial 41 with value: 0.981013316687474.\u001b[0m\n"
     ]
    },
    {
     "name": "stderr",
     "output_type": "stream",
     "text": [
      "Found only 9 unique classes in the data, but have defined 624222 classes. Probably something is wrong with data.\n"
     ]
    },
    {
     "name": "stdout",
     "output_type": "stream",
     "text": [
      "\u001b[32m[I 2022-09-06 16:12:00,936]\u001b[0m Trial 71 finished with value: 0.9678554219506318 and parameters: {'learning_rate': 0.19999999999999998, '_depth': 5}. Best is trial 41 with value: 0.981013316687474.\u001b[0m\n"
     ]
    },
    {
     "name": "stderr",
     "output_type": "stream",
     "text": [
      "Found only 9 unique classes in the data, but have defined 624222 classes. Probably something is wrong with data.\n"
     ]
    },
    {
     "name": "stdout",
     "output_type": "stream",
     "text": [
      "\u001b[32m[I 2022-09-06 16:14:21,473]\u001b[0m Trial 72 finished with value: 0.9790639989486826 and parameters: {'learning_rate': 0.24, '_depth': 8}. Best is trial 41 with value: 0.981013316687474.\u001b[0m\n"
     ]
    },
    {
     "name": "stderr",
     "output_type": "stream",
     "text": [
      "Found only 9 unique classes in the data, but have defined 624222 classes. Probably something is wrong with data.\n"
     ]
    },
    {
     "name": "stdout",
     "output_type": "stream",
     "text": [
      "\u001b[32m[I 2022-09-06 16:16:53,450]\u001b[0m Trial 73 finished with value: 0.9771146812098911 and parameters: {'learning_rate': 0.22, '_depth': 8}. Best is trial 41 with value: 0.981013316687474.\u001b[0m\n"
     ]
    },
    {
     "name": "stderr",
     "output_type": "stream",
     "text": [
      "Found only 9 unique classes in the data, but have defined 624222 classes. Probably something is wrong with data.\n"
     ]
    },
    {
     "name": "stdout",
     "output_type": "stream",
     "text": [
      "\u001b[32m[I 2022-09-06 16:19:00,310]\u001b[0m Trial 74 finished with value: 0.9698047396894233 and parameters: {'learning_rate': 0.22, '_depth': 8}. Best is trial 41 with value: 0.981013316687474.\u001b[0m\n"
     ]
    },
    {
     "name": "stderr",
     "output_type": "stream",
     "text": [
      "Found only 9 unique classes in the data, but have defined 624222 classes. Probably something is wrong with data.\n"
     ]
    },
    {
     "name": "stdout",
     "output_type": "stream",
     "text": [
      "\u001b[32m[I 2022-09-06 16:20:46,959]\u001b[0m Trial 75 finished with value: 0.9771146812098911 and parameters: {'learning_rate': 0.30000000000000004, '_depth': 2}. Best is trial 41 with value: 0.981013316687474.\u001b[0m\n"
     ]
    },
    {
     "name": "stderr",
     "output_type": "stream",
     "text": [
      "Found only 9 unique classes in the data, but have defined 624222 classes. Probably something is wrong with data.\n"
     ]
    },
    {
     "name": "stdout",
     "output_type": "stream",
     "text": [
      "\u001b[32m[I 2022-09-06 16:22:48,804]\u001b[0m Trial 76 finished with value: 0.9790639989486826 and parameters: {'learning_rate': 0.32, '_depth': 9}. Best is trial 41 with value: 0.981013316687474.\u001b[0m\n"
     ]
    },
    {
     "name": "stderr",
     "output_type": "stream",
     "text": [
      "Found only 9 unique classes in the data, but have defined 624222 classes. Probably something is wrong with data.\n"
     ]
    },
    {
     "name": "stdout",
     "output_type": "stream",
     "text": [
      "\u001b[32m[I 2022-09-06 16:24:49,825]\u001b[0m Trial 77 finished with value: 0.9698047396894233 and parameters: {'learning_rate': 0.32, '_depth': 9}. Best is trial 41 with value: 0.981013316687474.\u001b[0m\n"
     ]
    },
    {
     "name": "stderr",
     "output_type": "stream",
     "text": [
      "Found only 9 unique classes in the data, but have defined 624222 classes. Probably something is wrong with data.\n"
     ]
    },
    {
     "name": "stdout",
     "output_type": "stream",
     "text": [
      "\u001b[32m[I 2022-09-06 16:27:06,798]\u001b[0m Trial 78 finished with value: 0.9717540574282147 and parameters: {'learning_rate': 0.28, '_depth': 9}. Best is trial 41 with value: 0.981013316687474.\u001b[0m\n"
     ]
    },
    {
     "name": "stderr",
     "output_type": "stream",
     "text": [
      "Found only 9 unique classes in the data, but have defined 624222 classes. Probably something is wrong with data.\n"
     ]
    },
    {
     "name": "stdout",
     "output_type": "stream",
     "text": [
      "\u001b[32m[I 2022-09-06 16:29:08,417]\u001b[0m Trial 79 finished with value: 0.9698047396894233 and parameters: {'learning_rate': 0.32, '_depth': 8}. Best is trial 41 with value: 0.981013316687474.\u001b[0m\n"
     ]
    },
    {
     "name": "stderr",
     "output_type": "stream",
     "text": [
      "Found only 9 unique classes in the data, but have defined 624222 classes. Probably something is wrong with data.\n"
     ]
    },
    {
     "name": "stdout",
     "output_type": "stream",
     "text": [
      "\u001b[32m[I 2022-09-06 16:31:36,845]\u001b[0m Trial 80 finished with value: 0.9698047396894233 and parameters: {'learning_rate': 0.24, '_depth': 10}. Best is trial 41 with value: 0.981013316687474.\u001b[0m\n"
     ]
    },
    {
     "name": "stderr",
     "output_type": "stream",
     "text": [
      "Found only 9 unique classes in the data, but have defined 624222 classes. Probably something is wrong with data.\n"
     ]
    },
    {
     "name": "stdout",
     "output_type": "stream",
     "text": [
      "\u001b[32m[I 2022-09-06 16:33:27,364]\u001b[0m Trial 81 finished with value: 0.9790639989486826 and parameters: {'learning_rate': 0.26, '_depth': 7}. Best is trial 41 with value: 0.981013316687474.\u001b[0m\n"
     ]
    },
    {
     "name": "stderr",
     "output_type": "stream",
     "text": [
      "Found only 9 unique classes in the data, but have defined 624222 classes. Probably something is wrong with data.\n"
     ]
    },
    {
     "name": "stdout",
     "output_type": "stream",
     "text": [
      "\u001b[32m[I 2022-09-06 16:35:54,487]\u001b[0m Trial 82 finished with value: 0.9698047396894233 and parameters: {'learning_rate': 0.28, '_depth': 9}. Best is trial 41 with value: 0.981013316687474.\u001b[0m\n"
     ]
    },
    {
     "name": "stderr",
     "output_type": "stream",
     "text": [
      "Found only 9 unique classes in the data, but have defined 624222 classes. Probably something is wrong with data.\n"
     ]
    },
    {
     "name": "stdout",
     "output_type": "stream",
     "text": [
      "\u001b[32m[I 2022-09-06 16:37:50,963]\u001b[0m Trial 83 finished with value: 0.9709418417037183 and parameters: {'learning_rate': 0.26, '_depth': 7}. Best is trial 41 with value: 0.981013316687474.\u001b[0m\n"
     ]
    },
    {
     "name": "stderr",
     "output_type": "stream",
     "text": [
      "Found only 9 unique classes in the data, but have defined 624222 classes. Probably something is wrong with data.\n"
     ]
    },
    {
     "name": "stdout",
     "output_type": "stream",
     "text": [
      "\u001b[32m[I 2022-09-06 16:40:16,256]\u001b[0m Trial 84 finished with value: 0.9636319001832505 and parameters: {'learning_rate': 0.26, '_depth': 8}. Best is trial 41 with value: 0.981013316687474.\u001b[0m\n"
     ]
    },
    {
     "name": "stderr",
     "output_type": "stream",
     "text": [
      "Found only 9 unique classes in the data, but have defined 624222 classes. Probably something is wrong with data.\n"
     ]
    },
    {
     "name": "stdout",
     "output_type": "stream",
     "text": [
      "\u001b[32m[I 2022-09-06 16:42:46,354]\u001b[0m Trial 85 finished with value: 0.9698047396894233 and parameters: {'learning_rate': 0.19999999999999998, '_depth': 8}. Best is trial 41 with value: 0.981013316687474.\u001b[0m\n"
     ]
    },
    {
     "name": "stderr",
     "output_type": "stream",
     "text": [
      "Found only 9 unique classes in the data, but have defined 624222 classes. Probably something is wrong with data.\n"
     ]
    },
    {
     "name": "stdout",
     "output_type": "stream",
     "text": [
      "\u001b[32m[I 2022-09-06 16:44:50,283]\u001b[0m Trial 86 finished with value: 0.9636319001832505 and parameters: {'learning_rate': 0.30000000000000004, '_depth': 9}. Best is trial 41 with value: 0.981013316687474.\u001b[0m\n"
     ]
    },
    {
     "name": "stderr",
     "output_type": "stream",
     "text": [
      "Found only 9 unique classes in the data, but have defined 624222 classes. Probably something is wrong with data.\n"
     ]
    },
    {
     "name": "stdout",
     "output_type": "stream",
     "text": [
      "\u001b[32m[I 2022-09-06 16:46:41,779]\u001b[0m Trial 87 finished with value: 0.9728911594425098 and parameters: {'learning_rate': 0.36000000000000004, '_depth': 7}. Best is trial 41 with value: 0.981013316687474.\u001b[0m\n"
     ]
    },
    {
     "name": "stderr",
     "output_type": "stream",
     "text": [
      "Found only 9 unique classes in the data, but have defined 624222 classes. Probably something is wrong with data.\n"
     ]
    },
    {
     "name": "stdout",
     "output_type": "stream",
     "text": [
      "\u001b[32m[I 2022-09-06 16:48:42,664]\u001b[0m Trial 88 finished with value: 0.9751653634710996 and parameters: {'learning_rate': 0.24, '_depth': 6}. Best is trial 41 with value: 0.981013316687474.\u001b[0m\n"
     ]
    },
    {
     "name": "stderr",
     "output_type": "stream",
     "text": [
      "Found only 9 unique classes in the data, but have defined 624222 classes. Probably something is wrong with data.\n"
     ]
    },
    {
     "name": "stdout",
     "output_type": "stream",
     "text": [
      "\u001b[32m[I 2022-09-06 16:50:44,252]\u001b[0m Trial 89 finished with value: 0.9728911594425098 and parameters: {'learning_rate': 0.32, '_depth': 10}. Best is trial 41 with value: 0.981013316687474.\u001b[0m\n"
     ]
    },
    {
     "name": "stderr",
     "output_type": "stream",
     "text": [
      "Found only 9 unique classes in the data, but have defined 624222 classes. Probably something is wrong with data.\n"
     ]
    },
    {
     "name": "stdout",
     "output_type": "stream",
     "text": [
      "\u001b[32m[I 2022-09-06 16:52:51,888]\u001b[0m Trial 90 finished with value: 0.9698047396894233 and parameters: {'learning_rate': 0.26, '_depth': 9}. Best is trial 41 with value: 0.981013316687474.\u001b[0m\n"
     ]
    },
    {
     "name": "stderr",
     "output_type": "stream",
     "text": [
      "Found only 9 unique classes in the data, but have defined 624222 classes. Probably something is wrong with data.\n"
     ]
    },
    {
     "name": "stdout",
     "output_type": "stream",
     "text": [
      "\u001b[32m[I 2022-09-06 16:54:45,104]\u001b[0m Trial 91 finished with value: 0.9678554219506318 and parameters: {'learning_rate': 0.22, '_depth': 5}. Best is trial 41 with value: 0.981013316687474.\u001b[0m\n"
     ]
    },
    {
     "name": "stderr",
     "output_type": "stream",
     "text": [
      "Found only 9 unique classes in the data, but have defined 624222 classes. Probably something is wrong with data.\n"
     ]
    },
    {
     "name": "stdout",
     "output_type": "stream",
     "text": [
      "\u001b[32m[I 2022-09-06 16:56:15,682]\u001b[0m Trial 92 finished with value: 0.9769586262785553 and parameters: {'learning_rate': 0.38, '_depth': 3}. Best is trial 41 with value: 0.981013316687474.\u001b[0m\n"
     ]
    },
    {
     "name": "stderr",
     "output_type": "stream",
     "text": [
      "Found only 9 unique classes in the data, but have defined 624222 classes. Probably something is wrong with data.\n"
     ]
    },
    {
     "name": "stdout",
     "output_type": "stream",
     "text": [
      "\u001b[32m[I 2022-09-06 16:58:04,886]\u001b[0m Trial 93 finished with value: 0.9790639989486826 and parameters: {'learning_rate': 0.30000000000000004, '_depth': 3}. Best is trial 41 with value: 0.981013316687474.\u001b[0m\n"
     ]
    },
    {
     "name": "stderr",
     "output_type": "stream",
     "text": [
      "Found only 9 unique classes in the data, but have defined 624222 classes. Probably something is wrong with data.\n"
     ]
    },
    {
     "name": "stdout",
     "output_type": "stream",
     "text": [
      "\u001b[32m[I 2022-09-06 17:00:05,293]\u001b[0m Trial 94 finished with value: 0.9698047396894233 and parameters: {'learning_rate': 0.28, '_depth': 8}. Best is trial 41 with value: 0.981013316687474.\u001b[0m\n"
     ]
    },
    {
     "name": "stderr",
     "output_type": "stream",
     "text": [
      "Found only 9 unique classes in the data, but have defined 624222 classes. Probably something is wrong with data.\n"
     ]
    },
    {
     "name": "stdout",
     "output_type": "stream",
     "text": [
      "\u001b[32m[I 2022-09-06 17:01:46,627]\u001b[0m Trial 95 finished with value: 0.9789079440173468 and parameters: {'learning_rate': 0.30000000000000004, '_depth': 4}. Best is trial 41 with value: 0.981013316687474.\u001b[0m\n"
     ]
    },
    {
     "name": "stderr",
     "output_type": "stream",
     "text": [
      "Found only 9 unique classes in the data, but have defined 624222 classes. Probably something is wrong with data.\n"
     ]
    },
    {
     "name": "stdout",
     "output_type": "stream",
     "text": [
      "\u001b[32m[I 2022-09-06 17:03:28,637]\u001b[0m Trial 96 finished with value: 0.9789079440173468 and parameters: {'learning_rate': 0.30000000000000004, '_depth': 4}. Best is trial 41 with value: 0.981013316687474.\u001b[0m\n"
     ]
    },
    {
     "name": "stderr",
     "output_type": "stream",
     "text": [
      "Found only 9 unique classes in the data, but have defined 624222 classes. Probably something is wrong with data.\n"
     ]
    },
    {
     "name": "stdout",
     "output_type": "stream",
     "text": [
      "\u001b[32m[I 2022-09-06 17:05:26,825]\u001b[0m Trial 97 finished with value: 0.9675433120879602 and parameters: {'learning_rate': 0.24, '_depth': 7}. Best is trial 41 with value: 0.981013316687474.\u001b[0m\n"
     ]
    },
    {
     "name": "stderr",
     "output_type": "stream",
     "text": [
      "Found only 9 unique classes in the data, but have defined 624222 classes. Probably something is wrong with data.\n"
     ]
    },
    {
     "name": "stdout",
     "output_type": "stream",
     "text": [
      "\u001b[32m[I 2022-09-06 17:07:11,404]\u001b[0m Trial 98 finished with value: 0.9538104781304071 and parameters: {'learning_rate': 0.26, '_depth': 4}. Best is trial 41 with value: 0.981013316687474.\u001b[0m\n"
     ]
    },
    {
     "name": "stderr",
     "output_type": "stream",
     "text": [
      "Found only 9 unique classes in the data, but have defined 624222 classes. Probably something is wrong with data.\n"
     ]
    },
    {
     "name": "stdout",
     "output_type": "stream",
     "text": [
      "\u001b[32m[I 2022-09-06 17:09:07,782]\u001b[0m Trial 99 finished with value: 0.9717540574282147 and parameters: {'learning_rate': 0.34, '_depth': 9}. Best is trial 41 with value: 0.981013316687474.\u001b[0m\n"
     ]
    },
    {
     "name": "stderr",
     "output_type": "stream",
     "text": [
      "Found only 9 unique classes in the data, but have defined 624222 classes. Probably something is wrong with data.\n"
     ]
    },
    {
     "name": "stdout",
     "output_type": "stream",
     "text": [
      "\u001b[32m[I 2022-09-06 17:11:14,336]\u001b[0m Trial 100 finished with value: 0.9672794871641707 and parameters: {'learning_rate': 0.28, '_depth': 6}. Best is trial 41 with value: 0.981013316687474.\u001b[0m\n"
     ]
    },
    {
     "name": "stderr",
     "output_type": "stream",
     "text": [
      "Found only 9 unique classes in the data, but have defined 624222 classes. Probably something is wrong with data.\n"
     ]
    },
    {
     "name": "stdout",
     "output_type": "stream",
     "text": [
      "\u001b[32m[I 2022-09-06 17:13:00,661]\u001b[0m Trial 101 finished with value: 0.9676993670192959 and parameters: {'learning_rate': 0.30000000000000004, '_depth': 4}. Best is trial 41 with value: 0.981013316687474.\u001b[0m\n"
     ]
    },
    {
     "name": "stderr",
     "output_type": "stream",
     "text": [
      "Found only 9 unique classes in the data, but have defined 624222 classes. Probably something is wrong with data.\n"
     ]
    },
    {
     "name": "stdout",
     "output_type": "stream",
     "text": [
      "\u001b[32m[I 2022-09-06 17:15:02,432]\u001b[0m Trial 102 finished with value: 0.9636319001832505 and parameters: {'learning_rate': 0.32, '_depth': 3}. Best is trial 41 with value: 0.981013316687474.\u001b[0m\n"
     ]
    },
    {
     "name": "stderr",
     "output_type": "stream",
     "text": [
      "Found only 9 unique classes in the data, but have defined 624222 classes. Probably something is wrong with data.\n"
     ]
    },
    {
     "name": "stdout",
     "output_type": "stream",
     "text": [
      "\u001b[32m[I 2022-09-06 17:16:46,730]\u001b[0m Trial 103 finished with value: 0.9790639989486826 and parameters: {'learning_rate': 0.30000000000000004, '_depth': 4}. Best is trial 41 with value: 0.981013316687474.\u001b[0m\n"
     ]
    },
    {
     "name": "stderr",
     "output_type": "stream",
     "text": [
      "Found only 9 unique classes in the data, but have defined 624222 classes. Probably something is wrong with data.\n"
     ]
    },
    {
     "name": "stdout",
     "output_type": "stream",
     "text": [
      "\u001b[32m[I 2022-09-06 17:18:48,351]\u001b[0m Trial 104 finished with value: 0.9678554219506318 and parameters: {'learning_rate': 0.28, '_depth': 3}. Best is trial 41 with value: 0.981013316687474.\u001b[0m\n"
     ]
    },
    {
     "name": "stderr",
     "output_type": "stream",
     "text": [
      "Found only 9 unique classes in the data, but have defined 624222 classes. Probably something is wrong with data.\n"
     ]
    },
    {
     "name": "stdout",
     "output_type": "stream",
     "text": [
      "\u001b[32m[I 2022-09-06 17:20:29,927]\u001b[0m Trial 105 finished with value: 0.9653301694253794 and parameters: {'learning_rate': 0.32, '_depth': 5}. Best is trial 41 with value: 0.981013316687474.\u001b[0m\n"
     ]
    },
    {
     "name": "stderr",
     "output_type": "stream",
     "text": [
      "Found only 9 unique classes in the data, but have defined 624222 classes. Probably something is wrong with data.\n"
     ]
    },
    {
     "name": "stdout",
     "output_type": "stream",
     "text": [
      "\u001b[32m[I 2022-09-06 17:23:13,328]\u001b[0m Trial 106 finished with value: 0.9698047396894233 and parameters: {'learning_rate': 0.24, '_depth': 10}. Best is trial 41 with value: 0.981013316687474.\u001b[0m\n"
     ]
    },
    {
     "name": "stderr",
     "output_type": "stream",
     "text": [
      "Found only 9 unique classes in the data, but have defined 624222 classes. Probably something is wrong with data.\n"
     ]
    },
    {
     "name": "stdout",
     "output_type": "stream",
     "text": [
      "\u001b[32m[I 2022-09-06 17:25:13,087]\u001b[0m Trial 107 finished with value: 0.9698047396894233 and parameters: {'learning_rate': 0.28, '_depth': 8}. Best is trial 41 with value: 0.981013316687474.\u001b[0m\n"
     ]
    },
    {
     "name": "stderr",
     "output_type": "stream",
     "text": [
      "Found only 9 unique classes in the data, but have defined 624222 classes. Probably something is wrong with data.\n"
     ]
    },
    {
     "name": "stdout",
     "output_type": "stream",
     "text": [
      "\u001b[32m[I 2022-09-06 17:27:08,705]\u001b[0m Trial 108 finished with value: 0.9790639989486826 and parameters: {'learning_rate': 0.30000000000000004, '_depth': 9}. Best is trial 41 with value: 0.981013316687474.\u001b[0m\n"
     ]
    },
    {
     "name": "stderr",
     "output_type": "stream",
     "text": [
      "Found only 9 unique classes in the data, but have defined 624222 classes. Probably something is wrong with data.\n"
     ]
    },
    {
     "name": "stdout",
     "output_type": "stream",
     "text": [
      "\u001b[32m[I 2022-09-06 17:29:15,942]\u001b[0m Trial 109 finished with value: 0.9698047396894233 and parameters: {'learning_rate': 0.26, '_depth': 9}. Best is trial 41 with value: 0.981013316687474.\u001b[0m\n"
     ]
    },
    {
     "name": "stderr",
     "output_type": "stream",
     "text": [
      "Found only 9 unique classes in the data, but have defined 624222 classes. Probably something is wrong with data.\n"
     ]
    },
    {
     "name": "stdout",
     "output_type": "stream",
     "text": [
      "\u001b[32m[I 2022-09-06 17:31:41,699]\u001b[0m Trial 110 finished with value: 0.9698047396894233 and parameters: {'learning_rate': 0.32, '_depth': 10}. Best is trial 41 with value: 0.981013316687474.\u001b[0m\n"
     ]
    },
    {
     "name": "stderr",
     "output_type": "stream",
     "text": [
      "Found only 9 unique classes in the data, but have defined 624222 classes. Probably something is wrong with data.\n"
     ]
    },
    {
     "name": "stdout",
     "output_type": "stream",
     "text": [
      "\u001b[32m[I 2022-09-06 17:33:38,598]\u001b[0m Trial 111 finished with value: 0.9771146812098911 and parameters: {'learning_rate': 0.30000000000000004, '_depth': 9}. Best is trial 41 with value: 0.981013316687474.\u001b[0m\n"
     ]
    },
    {
     "name": "stderr",
     "output_type": "stream",
     "text": [
      "Found only 9 unique classes in the data, but have defined 624222 classes. Probably something is wrong with data.\n"
     ]
    },
    {
     "name": "stdout",
     "output_type": "stream",
     "text": [
      "\u001b[32m[I 2022-09-06 17:35:45,645]\u001b[0m Trial 112 finished with value: 0.9717540574282147 and parameters: {'learning_rate': 0.34, '_depth': 9}. Best is trial 41 with value: 0.981013316687474.\u001b[0m\n"
     ]
    },
    {
     "name": "stderr",
     "output_type": "stream",
     "text": [
      "Found only 9 unique classes in the data, but have defined 624222 classes. Probably something is wrong with data.\n"
     ]
    },
    {
     "name": "stdout",
     "output_type": "stream",
     "text": [
      "\u001b[32m[I 2022-09-06 17:37:45,039]\u001b[0m Trial 113 finished with value: 0.9676993670192959 and parameters: {'learning_rate': 0.26, '_depth': 2}. Best is trial 41 with value: 0.981013316687474.\u001b[0m\n"
     ]
    },
    {
     "name": "stderr",
     "output_type": "stream",
     "text": [
      "Found only 9 unique classes in the data, but have defined 624222 classes. Probably something is wrong with data.\n"
     ]
    },
    {
     "name": "stdout",
     "output_type": "stream",
     "text": [
      "\u001b[32m[I 2022-09-06 17:39:45,260]\u001b[0m Trial 114 finished with value: 0.9678554219506318 and parameters: {'learning_rate': 0.30000000000000004, '_depth': 8}. Best is trial 41 with value: 0.981013316687474.\u001b[0m\n"
     ]
    },
    {
     "name": "stderr",
     "output_type": "stream",
     "text": [
      "Found only 9 unique classes in the data, but have defined 624222 classes. Probably something is wrong with data.\n"
     ]
    },
    {
     "name": "stdout",
     "output_type": "stream",
     "text": [
      "\u001b[32m[I 2022-09-06 17:41:40,286]\u001b[0m Trial 115 finished with value: 0.9790639989486826 and parameters: {'learning_rate': 0.28, '_depth': 9}. Best is trial 41 with value: 0.981013316687474.\u001b[0m\n"
     ]
    },
    {
     "name": "stderr",
     "output_type": "stream",
     "text": [
      "Found only 9 unique classes in the data, but have defined 624222 classes. Probably something is wrong with data.\n"
     ]
    },
    {
     "name": "stdout",
     "output_type": "stream",
     "text": [
      "\u001b[32m[I 2022-09-06 17:43:37,276]\u001b[0m Trial 116 finished with value: 0.9790639989486826 and parameters: {'learning_rate': 0.28, '_depth': 9}. Best is trial 41 with value: 0.981013316687474.\u001b[0m\n"
     ]
    },
    {
     "name": "stderr",
     "output_type": "stream",
     "text": [
      "Found only 9 unique classes in the data, but have defined 624222 classes. Probably something is wrong with data.\n"
     ]
    },
    {
     "name": "stdout",
     "output_type": "stream",
     "text": [
      "\u001b[32m[I 2022-09-06 17:45:42,232]\u001b[0m Trial 117 finished with value: 0.9678554219506318 and parameters: {'learning_rate': 0.26, '_depth': 9}. Best is trial 41 with value: 0.981013316687474.\u001b[0m\n"
     ]
    },
    {
     "name": "stderr",
     "output_type": "stream",
     "text": [
      "Found only 9 unique classes in the data, but have defined 624222 classes. Probably something is wrong with data.\n"
     ]
    },
    {
     "name": "stdout",
     "output_type": "stream",
     "text": [
      "\u001b[32m[I 2022-09-06 17:47:40,630]\u001b[0m Trial 118 finished with value: 0.9717540574282147 and parameters: {'learning_rate': 0.28, '_depth': 9}. Best is trial 41 with value: 0.981013316687474.\u001b[0m\n"
     ]
    },
    {
     "name": "stderr",
     "output_type": "stream",
     "text": [
      "Found only 9 unique classes in the data, but have defined 624222 classes. Probably something is wrong with data.\n"
     ]
    },
    {
     "name": "stdout",
     "output_type": "stream",
     "text": [
      "\u001b[32m[I 2022-09-06 17:50:27,062]\u001b[0m Trial 119 finished with value: 0.9790639989486826 and parameters: {'learning_rate': 0.24, '_depth': 10}. Best is trial 41 with value: 0.981013316687474.\u001b[0m\n"
     ]
    },
    {
     "name": "stderr",
     "output_type": "stream",
     "text": [
      "Found only 9 unique classes in the data, but have defined 624222 classes. Probably something is wrong with data.\n"
     ]
    },
    {
     "name": "stdout",
     "output_type": "stream",
     "text": [
      "\u001b[32m[I 2022-09-06 17:53:11,758]\u001b[0m Trial 120 finished with value: 0.9717540574282147 and parameters: {'learning_rate': 0.24, '_depth': 10}. Best is trial 41 with value: 0.981013316687474.\u001b[0m\n"
     ]
    },
    {
     "name": "stderr",
     "output_type": "stream",
     "text": [
      "Found only 9 unique classes in the data, but have defined 624222 classes. Probably something is wrong with data.\n"
     ]
    },
    {
     "name": "stdout",
     "output_type": "stream",
     "text": [
      "\u001b[32m[I 2022-09-06 17:55:33,065]\u001b[0m Trial 121 finished with value: 0.9698047396894233 and parameters: {'learning_rate': 0.28, '_depth': 10}. Best is trial 41 with value: 0.981013316687474.\u001b[0m\n"
     ]
    },
    {
     "name": "stderr",
     "output_type": "stream",
     "text": [
      "Found only 9 unique classes in the data, but have defined 624222 classes. Probably something is wrong with data.\n"
     ]
    },
    {
     "name": "stdout",
     "output_type": "stream",
     "text": [
      "\u001b[32m[I 2022-09-06 17:58:25,157]\u001b[0m Trial 122 finished with value: 0.9790639989486826 and parameters: {'learning_rate': 0.22, '_depth': 9}. Best is trial 41 with value: 0.981013316687474.\u001b[0m\n"
     ]
    },
    {
     "name": "stderr",
     "output_type": "stream",
     "text": [
      "Found only 9 unique classes in the data, but have defined 624222 classes. Probably something is wrong with data.\n"
     ]
    },
    {
     "name": "stdout",
     "output_type": "stream",
     "text": [
      "\u001b[32m[I 2022-09-06 18:00:21,948]\u001b[0m Trial 123 finished with value: 0.9790639989486826 and parameters: {'learning_rate': 0.22, '_depth': 8}. Best is trial 41 with value: 0.981013316687474.\u001b[0m\n"
     ]
    },
    {
     "name": "stderr",
     "output_type": "stream",
     "text": [
      "Found only 9 unique classes in the data, but have defined 624222 classes. Probably something is wrong with data.\n"
     ]
    },
    {
     "name": "stdout",
     "output_type": "stream",
     "text": [
      "\u001b[32m[I 2022-09-06 18:02:38,864]\u001b[0m Trial 124 finished with value: 0.9717540574282147 and parameters: {'learning_rate': 0.22, '_depth': 8}. Best is trial 41 with value: 0.981013316687474.\u001b[0m\n"
     ]
    },
    {
     "name": "stderr",
     "output_type": "stream",
     "text": [
      "Found only 9 unique classes in the data, but have defined 624222 classes. Probably something is wrong with data.\n"
     ]
    },
    {
     "name": "stdout",
     "output_type": "stream",
     "text": [
      "\u001b[32m[I 2022-09-06 18:05:24,998]\u001b[0m Trial 125 finished with value: 0.9698047396894233 and parameters: {'learning_rate': 0.19999999999999998, '_depth': 9}. Best is trial 41 with value: 0.981013316687474.\u001b[0m\n"
     ]
    },
    {
     "name": "stderr",
     "output_type": "stream",
     "text": [
      "Found only 9 unique classes in the data, but have defined 624222 classes. Probably something is wrong with data.\n"
     ]
    },
    {
     "name": "stdout",
     "output_type": "stream",
     "text": [
      "\u001b[32m[I 2022-09-06 18:06:42,453]\u001b[0m Trial 126 finished with value: 0.9430254788031252 and parameters: {'learning_rate': 0.46, '_depth': 9}. Best is trial 41 with value: 0.981013316687474.\u001b[0m\n"
     ]
    },
    {
     "name": "stderr",
     "output_type": "stream",
     "text": [
      "Found only 9 unique classes in the data, but have defined 624222 classes. Probably something is wrong with data.\n"
     ]
    },
    {
     "name": "stdout",
     "output_type": "stream",
     "text": [
      "\u001b[32m[I 2022-09-06 18:09:02,909]\u001b[0m Trial 127 finished with value: 0.9698047396894233 and parameters: {'learning_rate': 0.18, '_depth': 9}. Best is trial 41 with value: 0.981013316687474.\u001b[0m\n"
     ]
    },
    {
     "name": "stderr",
     "output_type": "stream",
     "text": [
      "Found only 9 unique classes in the data, but have defined 624222 classes. Probably something is wrong with data.\n"
     ]
    },
    {
     "name": "stdout",
     "output_type": "stream",
     "text": [
      "\u001b[32m[I 2022-09-06 18:11:07,939]\u001b[0m Trial 128 finished with value: 0.9717540574282147 and parameters: {'learning_rate': 0.24, '_depth': 10}. Best is trial 41 with value: 0.981013316687474.\u001b[0m\n"
     ]
    },
    {
     "name": "stderr",
     "output_type": "stream",
     "text": [
      "Found only 9 unique classes in the data, but have defined 624222 classes. Probably something is wrong with data.\n"
     ]
    },
    {
     "name": "stdout",
     "output_type": "stream",
     "text": [
      "\u001b[32m[I 2022-09-06 18:13:10,732]\u001b[0m Trial 129 finished with value: 0.9698047396894233 and parameters: {'learning_rate': 0.22, '_depth': 7}. Best is trial 41 with value: 0.981013316687474.\u001b[0m\n"
     ]
    },
    {
     "name": "stderr",
     "output_type": "stream",
     "text": [
      "Found only 9 unique classes in the data, but have defined 624222 classes. Probably something is wrong with data.\n"
     ]
    },
    {
     "name": "stdout",
     "output_type": "stream",
     "text": [
      "\u001b[32m[I 2022-09-06 18:15:47,878]\u001b[0m Trial 130 finished with value: 0.9698047396894233 and parameters: {'learning_rate': 0.19999999999999998, '_depth': 10}. Best is trial 41 with value: 0.981013316687474.\u001b[0m\n"
     ]
    },
    {
     "name": "stderr",
     "output_type": "stream",
     "text": [
      "Found only 9 unique classes in the data, but have defined 624222 classes. Probably something is wrong with data.\n"
     ]
    },
    {
     "name": "stdout",
     "output_type": "stream",
     "text": [
      "\u001b[32m[I 2022-09-06 18:18:02,804]\u001b[0m Trial 131 finished with value: 0.9771146812098911 and parameters: {'learning_rate': 0.26, '_depth': 9}. Best is trial 41 with value: 0.981013316687474.\u001b[0m\n"
     ]
    },
    {
     "name": "stderr",
     "output_type": "stream",
     "text": [
      "Found only 9 unique classes in the data, but have defined 624222 classes. Probably something is wrong with data.\n"
     ]
    },
    {
     "name": "stdout",
     "output_type": "stream",
     "text": [
      "\u001b[32m[I 2022-09-06 18:20:44,383]\u001b[0m Trial 132 finished with value: 0.9698047396894233 and parameters: {'learning_rate': 0.18, '_depth': 8}. Best is trial 41 with value: 0.981013316687474.\u001b[0m\n"
     ]
    },
    {
     "name": "stderr",
     "output_type": "stream",
     "text": [
      "Found only 9 unique classes in the data, but have defined 624222 classes. Probably something is wrong with data.\n"
     ]
    },
    {
     "name": "stdout",
     "output_type": "stream",
     "text": [
      "\u001b[32m[I 2022-09-06 18:23:07,655]\u001b[0m Trial 133 finished with value: 0.9698047396894233 and parameters: {'learning_rate': 0.22, '_depth': 9}. Best is trial 41 with value: 0.981013316687474.\u001b[0m\n"
     ]
    },
    {
     "name": "stderr",
     "output_type": "stream",
     "text": [
      "Found only 9 unique classes in the data, but have defined 624222 classes. Probably something is wrong with data.\n"
     ]
    },
    {
     "name": "stdout",
     "output_type": "stream",
     "text": [
      "\u001b[32m[I 2022-09-06 18:25:52,977]\u001b[0m Trial 134 finished with value: 0.9717540574282147 and parameters: {'learning_rate': 0.24, '_depth': 10}. Best is trial 41 with value: 0.981013316687474.\u001b[0m\n"
     ]
    },
    {
     "name": "stderr",
     "output_type": "stream",
     "text": [
      "Found only 9 unique classes in the data, but have defined 624222 classes. Probably something is wrong with data.\n"
     ]
    },
    {
     "name": "stdout",
     "output_type": "stream",
     "text": [
      "\u001b[32m[I 2022-09-06 18:28:08,918]\u001b[0m Trial 135 finished with value: 0.981013316687474 and parameters: {'learning_rate': 0.26, '_depth': 9}. Best is trial 41 with value: 0.981013316687474.\u001b[0m\n"
     ]
    },
    {
     "name": "stderr",
     "output_type": "stream",
     "text": [
      "Found only 9 unique classes in the data, but have defined 624222 classes. Probably something is wrong with data.\n"
     ]
    },
    {
     "name": "stdout",
     "output_type": "stream",
     "text": [
      "\u001b[32m[I 2022-09-06 18:30:14,288]\u001b[0m Trial 136 finished with value: 0.9698047396894233 and parameters: {'learning_rate': 0.28, '_depth': 9}. Best is trial 41 with value: 0.981013316687474.\u001b[0m\n"
     ]
    },
    {
     "name": "stderr",
     "output_type": "stream",
     "text": [
      "Found only 9 unique classes in the data, but have defined 624222 classes. Probably something is wrong with data.\n"
     ]
    },
    {
     "name": "stdout",
     "output_type": "stream",
     "text": [
      "\u001b[32m[I 2022-09-06 18:32:31,835]\u001b[0m Trial 137 finished with value: 0.9698047396894233 and parameters: {'learning_rate': 0.19999999999999998, '_depth': 8}. Best is trial 41 with value: 0.981013316687474.\u001b[0m\n"
     ]
    },
    {
     "name": "stderr",
     "output_type": "stream",
     "text": [
      "Found only 9 unique classes in the data, but have defined 624222 classes. Probably something is wrong with data.\n"
     ]
    },
    {
     "name": "stdout",
     "output_type": "stream",
     "text": [
      "\u001b[32m[I 2022-09-06 18:35:12,970]\u001b[0m Trial 138 finished with value: 0.9790639989486826 and parameters: {'learning_rate': 0.24, '_depth': 9}. Best is trial 41 with value: 0.981013316687474.\u001b[0m\n"
     ]
    },
    {
     "name": "stderr",
     "output_type": "stream",
     "text": [
      "Found only 9 unique classes in the data, but have defined 624222 classes. Probably something is wrong with data.\n"
     ]
    },
    {
     "name": "stdout",
     "output_type": "stream",
     "text": [
      "\u001b[32m[I 2022-09-06 18:37:20,587]\u001b[0m Trial 139 finished with value: 0.9790639989486826 and parameters: {'learning_rate': 0.26, '_depth': 7}. Best is trial 41 with value: 0.981013316687474.\u001b[0m\n"
     ]
    },
    {
     "name": "stderr",
     "output_type": "stream",
     "text": [
      "Found only 9 unique classes in the data, but have defined 624222 classes. Probably something is wrong with data.\n"
     ]
    },
    {
     "name": "stdout",
     "output_type": "stream",
     "text": [
      "\u001b[32m[I 2022-09-06 18:39:27,333]\u001b[0m Trial 140 finished with value: 0.9790639989486826 and parameters: {'learning_rate': 0.26, '_depth': 7}. Best is trial 41 with value: 0.981013316687474.\u001b[0m\n"
     ]
    },
    {
     "name": "stderr",
     "output_type": "stream",
     "text": [
      "Found only 9 unique classes in the data, but have defined 624222 classes. Probably something is wrong with data.\n"
     ]
    },
    {
     "name": "stdout",
     "output_type": "stream",
     "text": [
      "\u001b[32m[I 2022-09-06 18:41:17,703]\u001b[0m Trial 141 finished with value: 0.9790639989486826 and parameters: {'learning_rate': 0.26, '_depth': 7}. Best is trial 41 with value: 0.981013316687474.\u001b[0m\n"
     ]
    },
    {
     "name": "stderr",
     "output_type": "stream",
     "text": [
      "Found only 9 unique classes in the data, but have defined 624222 classes. Probably something is wrong with data.\n"
     ]
    },
    {
     "name": "stdout",
     "output_type": "stream",
     "text": [
      "\u001b[32m[I 2022-09-06 18:43:14,711]\u001b[0m Trial 142 finished with value: 0.9771146812098911 and parameters: {'learning_rate': 0.24, '_depth': 7}. Best is trial 41 with value: 0.981013316687474.\u001b[0m\n"
     ]
    },
    {
     "name": "stderr",
     "output_type": "stream",
     "text": [
      "Found only 9 unique classes in the data, but have defined 624222 classes. Probably something is wrong with data.\n"
     ]
    },
    {
     "name": "stdout",
     "output_type": "stream",
     "text": [
      "\u001b[32m[I 2022-09-06 18:45:23,368]\u001b[0m Trial 143 finished with value: 0.9771146812098911 and parameters: {'learning_rate': 0.22, '_depth': 8}. Best is trial 41 with value: 0.981013316687474.\u001b[0m\n"
     ]
    },
    {
     "name": "stderr",
     "output_type": "stream",
     "text": [
      "Found only 9 unique classes in the data, but have defined 624222 classes. Probably something is wrong with data.\n"
     ]
    },
    {
     "name": "stdout",
     "output_type": "stream",
     "text": [
      "\u001b[32m[I 2022-09-06 18:47:11,733]\u001b[0m Trial 144 finished with value: 0.9698047396894233 and parameters: {'learning_rate': 0.30000000000000004, '_depth': 9}. Best is trial 41 with value: 0.981013316687474.\u001b[0m\n"
     ]
    },
    {
     "name": "stderr",
     "output_type": "stream",
     "text": [
      "Found only 9 unique classes in the data, but have defined 624222 classes. Probably something is wrong with data.\n"
     ]
    },
    {
     "name": "stdout",
     "output_type": "stream",
     "text": [
      "\u001b[32m[I 2022-09-06 18:49:18,376]\u001b[0m Trial 145 finished with value: 0.9698047396894233 and parameters: {'learning_rate': 0.28, '_depth': 9}. Best is trial 41 with value: 0.981013316687474.\u001b[0m\n"
     ]
    },
    {
     "name": "stderr",
     "output_type": "stream",
     "text": [
      "Found only 9 unique classes in the data, but have defined 624222 classes. Probably something is wrong with data.\n"
     ]
    },
    {
     "name": "stdout",
     "output_type": "stream",
     "text": [
      "\u001b[32m[I 2022-09-06 18:50:57,487]\u001b[0m Trial 146 finished with value: 0.9559158508005344 and parameters: {'learning_rate': 0.30000000000000004, '_depth': 9}. Best is trial 41 with value: 0.981013316687474.\u001b[0m\n"
     ]
    },
    {
     "name": "stderr",
     "output_type": "stream",
     "text": [
      "Found only 9 unique classes in the data, but have defined 624222 classes. Probably something is wrong with data.\n"
     ]
    },
    {
     "name": "stdout",
     "output_type": "stream",
     "text": [
      "\u001b[32m[I 2022-09-06 18:53:08,369]\u001b[0m Trial 147 finished with value: 0.9790639989486826 and parameters: {'learning_rate': 0.26, '_depth': 7}. Best is trial 41 with value: 0.981013316687474.\u001b[0m\n"
     ]
    },
    {
     "name": "stderr",
     "output_type": "stream",
     "text": [
      "Found only 9 unique classes in the data, but have defined 624222 classes. Probably something is wrong with data.\n"
     ]
    },
    {
     "name": "stdout",
     "output_type": "stream",
     "text": [
      "\u001b[32m[I 2022-09-06 18:55:17,566]\u001b[0m Trial 148 finished with value: 0.9771146812098911 and parameters: {'learning_rate': 0.28, '_depth': 9}. Best is trial 41 with value: 0.981013316687474.\u001b[0m\n"
     ]
    },
    {
     "name": "stderr",
     "output_type": "stream",
     "text": [
      "Found only 9 unique classes in the data, but have defined 624222 classes. Probably something is wrong with data.\n"
     ]
    },
    {
     "name": "stdout",
     "output_type": "stream",
     "text": [
      "\u001b[32m[I 2022-09-06 18:57:21,284]\u001b[0m Trial 149 finished with value: 0.9751653634710996 and parameters: {'learning_rate': 0.24, '_depth': 6}. Best is trial 41 with value: 0.981013316687474.\u001b[0m\n"
     ]
    },
    {
     "name": "stderr",
     "output_type": "stream",
     "text": [
      "Found only 9 unique classes in the data, but have defined 624222 classes. Probably something is wrong with data.\n"
     ]
    },
    {
     "name": "stdout",
     "output_type": "stream",
     "text": [
      "\u001b[32m[I 2022-09-06 18:59:32,284]\u001b[0m Trial 150 finished with value: 0.9790639989486826 and parameters: {'learning_rate': 0.26, '_depth': 7}. Best is trial 41 with value: 0.981013316687474.\u001b[0m\n"
     ]
    },
    {
     "name": "stderr",
     "output_type": "stream",
     "text": [
      "Found only 9 unique classes in the data, but have defined 624222 classes. Probably something is wrong with data.\n"
     ]
    },
    {
     "name": "stdout",
     "output_type": "stream",
     "text": [
      "\u001b[32m[I 2022-09-06 19:01:32,117]\u001b[0m Trial 151 finished with value: 0.9636319001832505 and parameters: {'learning_rate': 0.32, '_depth': 3}. Best is trial 41 with value: 0.981013316687474.\u001b[0m\n"
     ]
    },
    {
     "name": "stderr",
     "output_type": "stream",
     "text": [
      "Found only 9 unique classes in the data, but have defined 624222 classes. Probably something is wrong with data.\n"
     ]
    },
    {
     "name": "stdout",
     "output_type": "stream",
     "text": [
      "\u001b[32m[I 2022-09-06 19:03:30,163]\u001b[0m Trial 152 finished with value: 0.9570529528148294 and parameters: {'learning_rate': 0.26, '_depth': 6}. Best is trial 41 with value: 0.981013316687474.\u001b[0m\n"
     ]
    },
    {
     "name": "stderr",
     "output_type": "stream",
     "text": [
      "Found only 9 unique classes in the data, but have defined 624222 classes. Probably something is wrong with data.\n"
     ]
    },
    {
     "name": "stdout",
     "output_type": "stream",
     "text": [
      "\u001b[32m[I 2022-09-06 19:05:36,879]\u001b[0m Trial 153 finished with value: 0.9698047396894233 and parameters: {'learning_rate': 0.28, '_depth': 9}. Best is trial 41 with value: 0.981013316687474.\u001b[0m\n"
     ]
    },
    {
     "name": "stderr",
     "output_type": "stream",
     "text": [
      "Found only 9 unique classes in the data, but have defined 624222 classes. Probably something is wrong with data.\n"
     ]
    },
    {
     "name": "stdout",
     "output_type": "stream",
     "text": [
      "\u001b[32m[I 2022-09-06 19:08:11,062]\u001b[0m Trial 154 finished with value: 0.9717540574282147 and parameters: {'learning_rate': 0.24, '_depth': 9}. Best is trial 41 with value: 0.981013316687474.\u001b[0m\n"
     ]
    },
    {
     "name": "stderr",
     "output_type": "stream",
     "text": [
      "Found only 9 unique classes in the data, but have defined 624222 classes. Probably something is wrong with data.\n"
     ]
    },
    {
     "name": "stdout",
     "output_type": "stream",
     "text": [
      "\u001b[32m[I 2022-09-06 19:10:09,938]\u001b[0m Trial 155 finished with value: 0.9678554219506318 and parameters: {'learning_rate': 0.22, '_depth': 7}. Best is trial 41 with value: 0.981013316687474.\u001b[0m\n"
     ]
    },
    {
     "name": "stderr",
     "output_type": "stream",
     "text": [
      "Found only 9 unique classes in the data, but have defined 624222 classes. Probably something is wrong with data.\n"
     ]
    },
    {
     "name": "stdout",
     "output_type": "stream",
     "text": [
      "\u001b[32m[I 2022-09-06 19:12:03,249]\u001b[0m Trial 156 finished with value: 0.9790639989486826 and parameters: {'learning_rate': 0.28, '_depth': 7}. Best is trial 41 with value: 0.981013316687474.\u001b[0m\n"
     ]
    },
    {
     "name": "stderr",
     "output_type": "stream",
     "text": [
      "Found only 9 unique classes in the data, but have defined 624222 classes. Probably something is wrong with data.\n"
     ]
    },
    {
     "name": "stdout",
     "output_type": "stream",
     "text": [
      "\u001b[32m[I 2022-09-06 19:13:50,422]\u001b[0m Trial 157 finished with value: 0.9744333737533027 and parameters: {'learning_rate': 0.30000000000000004, '_depth': 3}. Best is trial 41 with value: 0.981013316687474.\u001b[0m\n"
     ]
    },
    {
     "name": "stderr",
     "output_type": "stream",
     "text": [
      "Found only 9 unique classes in the data, but have defined 624222 classes. Probably something is wrong with data.\n"
     ]
    },
    {
     "name": "stdout",
     "output_type": "stream",
     "text": [
      "\u001b[32m[I 2022-09-06 19:16:26,128]\u001b[0m Trial 158 finished with value: 0.9653301694253794 and parameters: {'learning_rate': 0.26, '_depth': 10}. Best is trial 41 with value: 0.981013316687474.\u001b[0m\n"
     ]
    },
    {
     "name": "stderr",
     "output_type": "stream",
     "text": [
      "Found only 9 unique classes in the data, but have defined 624222 classes. Probably something is wrong with data.\n"
     ]
    },
    {
     "name": "stdout",
     "output_type": "stream",
     "text": [
      "\u001b[32m[I 2022-09-06 19:18:39,934]\u001b[0m Trial 159 finished with value: 0.9678554219506318 and parameters: {'learning_rate': 0.26, '_depth': 8}. Best is trial 41 with value: 0.981013316687474.\u001b[0m\n"
     ]
    },
    {
     "name": "stderr",
     "output_type": "stream",
     "text": [
      "Found only 9 unique classes in the data, but have defined 624222 classes. Probably something is wrong with data.\n"
     ]
    },
    {
     "name": "stdout",
     "output_type": "stream",
     "text": [
      "\u001b[32m[I 2022-09-06 19:20:55,162]\u001b[0m Trial 160 finished with value: 0.9771146812098911 and parameters: {'learning_rate': 0.19999999999999998, '_depth': 8}. Best is trial 41 with value: 0.981013316687474.\u001b[0m\n"
     ]
    },
    {
     "name": "stderr",
     "output_type": "stream",
     "text": [
      "Found only 9 unique classes in the data, but have defined 624222 classes. Probably something is wrong with data.\n"
     ]
    },
    {
     "name": "stdout",
     "output_type": "stream",
     "text": [
      "\u001b[32m[I 2022-09-06 19:23:19,905]\u001b[0m Trial 161 finished with value: 0.9717540574282147 and parameters: {'learning_rate': 0.24, '_depth': 9}. Best is trial 41 with value: 0.981013316687474.\u001b[0m\n"
     ]
    },
    {
     "name": "stderr",
     "output_type": "stream",
     "text": [
      "Found only 9 unique classes in the data, but have defined 624222 classes. Probably something is wrong with data.\n"
     ]
    },
    {
     "name": "stdout",
     "output_type": "stream",
     "text": [
      "\u001b[32m[I 2022-09-06 19:25:31,251]\u001b[0m Trial 162 finished with value: 0.9790639989486826 and parameters: {'learning_rate': 0.26, '_depth': 7}. Best is trial 41 with value: 0.981013316687474.\u001b[0m\n"
     ]
    },
    {
     "name": "stderr",
     "output_type": "stream",
     "text": [
      "Found only 9 unique classes in the data, but have defined 624222 classes. Probably something is wrong with data.\n"
     ]
    },
    {
     "name": "stdout",
     "output_type": "stream",
     "text": [
      "\u001b[32m[I 2022-09-06 19:27:30,791]\u001b[0m Trial 163 finished with value: 0.9651751100597937 and parameters: {'learning_rate': 0.30000000000000004, '_depth': 9}. Best is trial 41 with value: 0.981013316687474.\u001b[0m\n"
     ]
    },
    {
     "name": "stderr",
     "output_type": "stream",
     "text": [
      "Found only 9 unique classes in the data, but have defined 624222 classes. Probably something is wrong with data.\n"
     ]
    },
    {
     "name": "stdout",
     "output_type": "stream",
     "text": [
      "\u001b[32m[I 2022-09-06 19:29:22,403]\u001b[0m Trial 164 finished with value: 0.9790639989486826 and parameters: {'learning_rate': 0.28, '_depth': 7}. Best is trial 41 with value: 0.981013316687474.\u001b[0m\n"
     ]
    },
    {
     "name": "stderr",
     "output_type": "stream",
     "text": [
      "Found only 9 unique classes in the data, but have defined 624222 classes. Probably something is wrong with data.\n"
     ]
    },
    {
     "name": "stdout",
     "output_type": "stream",
     "text": [
      "\u001b[32m[I 2022-09-06 19:31:17,881]\u001b[0m Trial 165 finished with value: 0.9678554219506318 and parameters: {'learning_rate': 0.22, '_depth': 7}. Best is trial 41 with value: 0.981013316687474.\u001b[0m\n"
     ]
    },
    {
     "name": "stderr",
     "output_type": "stream",
     "text": [
      "Found only 9 unique classes in the data, but have defined 624222 classes. Probably something is wrong with data.\n"
     ]
    },
    {
     "name": "stdout",
     "output_type": "stream",
     "text": [
      "\u001b[32m[I 2022-09-06 19:33:37,999]\u001b[0m Trial 166 finished with value: 0.9698047396894233 and parameters: {'learning_rate': 0.26, '_depth': 8}. Best is trial 41 with value: 0.981013316687474.\u001b[0m\n"
     ]
    },
    {
     "name": "stderr",
     "output_type": "stream",
     "text": [
      "Found only 9 unique classes in the data, but have defined 624222 classes. Probably something is wrong with data.\n"
     ]
    },
    {
     "name": "stdout",
     "output_type": "stream",
     "text": [
      "\u001b[32m[I 2022-09-06 19:35:28,177]\u001b[0m Trial 167 finished with value: 0.9790639989486826 and parameters: {'learning_rate': 0.26, '_depth': 7}. Best is trial 41 with value: 0.981013316687474.\u001b[0m\n"
     ]
    },
    {
     "name": "stderr",
     "output_type": "stream",
     "text": [
      "Found only 9 unique classes in the data, but have defined 624222 classes. Probably something is wrong with data.\n"
     ]
    },
    {
     "name": "stdout",
     "output_type": "stream",
     "text": [
      "\u001b[32m[I 2022-09-06 19:37:22,978]\u001b[0m Trial 168 finished with value: 0.961682582444459 and parameters: {'learning_rate': 0.24, '_depth': 7}. Best is trial 41 with value: 0.981013316687474.\u001b[0m\n"
     ]
    },
    {
     "name": "stderr",
     "output_type": "stream",
     "text": [
      "Found only 9 unique classes in the data, but have defined 624222 classes. Probably something is wrong with data.\n"
     ]
    },
    {
     "name": "stdout",
     "output_type": "stream",
     "text": [
      "\u001b[32m[I 2022-09-06 19:39:27,479]\u001b[0m Trial 169 finished with value: 0.9672794871641707 and parameters: {'learning_rate': 0.28, '_depth': 7}. Best is trial 41 with value: 0.981013316687474.\u001b[0m\n"
     ]
    },
    {
     "name": "stderr",
     "output_type": "stream",
     "text": [
      "Found only 9 unique classes in the data, but have defined 624222 classes. Probably something is wrong with data.\n"
     ]
    },
    {
     "name": "stdout",
     "output_type": "stream",
     "text": [
      "\u001b[32m[I 2022-09-06 19:41:12,932]\u001b[0m Trial 170 finished with value: 0.9559158508005344 and parameters: {'learning_rate': 0.32, '_depth': 6}. Best is trial 41 with value: 0.981013316687474.\u001b[0m\n"
     ]
    },
    {
     "name": "stderr",
     "output_type": "stream",
     "text": [
      "Found only 9 unique classes in the data, but have defined 624222 classes. Probably something is wrong with data.\n"
     ]
    },
    {
     "name": "stdout",
     "output_type": "stream",
     "text": [
      "\u001b[32m[I 2022-09-06 19:43:06,006]\u001b[0m Trial 171 finished with value: 0.9790639989486826 and parameters: {'learning_rate': 0.28, '_depth': 7}. Best is trial 41 with value: 0.981013316687474.\u001b[0m\n"
     ]
    },
    {
     "name": "stderr",
     "output_type": "stream",
     "text": [
      "Found only 9 unique classes in the data, but have defined 624222 classes. Probably something is wrong with data.\n"
     ]
    },
    {
     "name": "stdout",
     "output_type": "stream",
     "text": [
      "\u001b[32m[I 2022-09-06 19:44:58,715]\u001b[0m Trial 172 finished with value: 0.9790639989486826 and parameters: {'learning_rate': 0.28, '_depth': 7}. Best is trial 41 with value: 0.981013316687474.\u001b[0m\n"
     ]
    },
    {
     "name": "stderr",
     "output_type": "stream",
     "text": [
      "Found only 9 unique classes in the data, but have defined 624222 classes. Probably something is wrong with data.\n"
     ]
    },
    {
     "name": "stdout",
     "output_type": "stream",
     "text": [
      "\u001b[32m[I 2022-09-06 19:46:51,782]\u001b[0m Trial 173 finished with value: 0.981013316687474 and parameters: {'learning_rate': 0.28, '_depth': 7}. Best is trial 41 with value: 0.981013316687474.\u001b[0m\n"
     ]
    },
    {
     "name": "stderr",
     "output_type": "stream",
     "text": [
      "Found only 9 unique classes in the data, but have defined 624222 classes. Probably something is wrong with data.\n"
     ]
    },
    {
     "name": "stdout",
     "output_type": "stream",
     "text": [
      "\u001b[32m[I 2022-09-06 19:48:32,968]\u001b[0m Trial 174 finished with value: 0.9676993670192959 and parameters: {'learning_rate': 0.30000000000000004, '_depth': 8}. Best is trial 41 with value: 0.981013316687474.\u001b[0m\n"
     ]
    },
    {
     "name": "stderr",
     "output_type": "stream",
     "text": [
      "Found only 9 unique classes in the data, but have defined 624222 classes. Probably something is wrong with data.\n"
     ]
    },
    {
     "name": "stdout",
     "output_type": "stream",
     "text": [
      "\u001b[32m[I 2022-09-06 19:50:52,392]\u001b[0m Trial 175 finished with value: 0.9678554219506318 and parameters: {'learning_rate': 0.24, '_depth': 7}. Best is trial 41 with value: 0.981013316687474.\u001b[0m\n"
     ]
    },
    {
     "name": "stderr",
     "output_type": "stream",
     "text": [
      "Found only 9 unique classes in the data, but have defined 624222 classes. Probably something is wrong with data.\n"
     ]
    },
    {
     "name": "stdout",
     "output_type": "stream",
     "text": [
      "\u001b[32m[I 2022-09-06 19:52:38,413]\u001b[0m Trial 176 finished with value: 0.9559158508005344 and parameters: {'learning_rate': 0.32, '_depth': 6}. Best is trial 41 with value: 0.981013316687474.\u001b[0m\n"
     ]
    },
    {
     "name": "stderr",
     "output_type": "stream",
     "text": [
      "Found only 9 unique classes in the data, but have defined 624222 classes. Probably something is wrong with data.\n"
     ]
    },
    {
     "name": "stdout",
     "output_type": "stream",
     "text": [
      "\u001b[32m[I 2022-09-06 19:54:16,002]\u001b[0m Trial 177 finished with value: 0.9653301694253794 and parameters: {'learning_rate': 0.28, '_depth': 6}. Best is trial 41 with value: 0.981013316687474.\u001b[0m\n"
     ]
    },
    {
     "name": "stderr",
     "output_type": "stream",
     "text": [
      "Found only 9 unique classes in the data, but have defined 624222 classes. Probably something is wrong with data.\n"
     ]
    },
    {
     "name": "stdout",
     "output_type": "stream",
     "text": [
      "\u001b[32m[I 2022-09-06 19:56:25,523]\u001b[0m Trial 178 finished with value: 0.9678554219506318 and parameters: {'learning_rate': 0.28, '_depth': 9}. Best is trial 41 with value: 0.981013316687474.\u001b[0m\n"
     ]
    },
    {
     "name": "stderr",
     "output_type": "stream",
     "text": [
      "Found only 9 unique classes in the data, but have defined 624222 classes. Probably something is wrong with data.\n"
     ]
    },
    {
     "name": "stdout",
     "output_type": "stream",
     "text": [
      "\u001b[32m[I 2022-09-06 19:58:35,247]\u001b[0m Trial 179 finished with value: 0.9790639989486826 and parameters: {'learning_rate': 0.26, '_depth': 7}. Best is trial 41 with value: 0.981013316687474.\u001b[0m\n"
     ]
    },
    {
     "name": "stderr",
     "output_type": "stream",
     "text": [
      "Found only 9 unique classes in the data, but have defined 624222 classes. Probably something is wrong with data.\n"
     ]
    },
    {
     "name": "stdout",
     "output_type": "stream",
     "text": [
      "\u001b[32m[I 2022-09-06 20:00:35,792]\u001b[0m Trial 180 finished with value: 0.9698047396894233 and parameters: {'learning_rate': 0.22, '_depth': 9}. Best is trial 41 with value: 0.981013316687474.\u001b[0m\n"
     ]
    },
    {
     "name": "stderr",
     "output_type": "stream",
     "text": [
      "Found only 9 unique classes in the data, but have defined 624222 classes. Probably something is wrong with data.\n"
     ]
    },
    {
     "name": "stdout",
     "output_type": "stream",
     "text": [
      "\u001b[32m[I 2022-09-06 20:02:26,119]\u001b[0m Trial 181 finished with value: 0.9790639989486826 and parameters: {'learning_rate': 0.26, '_depth': 7}. Best is trial 41 with value: 0.981013316687474.\u001b[0m\n"
     ]
    },
    {
     "name": "stderr",
     "output_type": "stream",
     "text": [
      "Found only 9 unique classes in the data, but have defined 624222 classes. Probably something is wrong with data.\n"
     ]
    },
    {
     "name": "stdout",
     "output_type": "stream",
     "text": [
      "\u001b[32m[I 2022-09-06 20:04:41,142]\u001b[0m Trial 182 finished with value: 0.9698047396894233 and parameters: {'learning_rate': 0.24, '_depth': 8}. Best is trial 41 with value: 0.981013316687474.\u001b[0m\n"
     ]
    },
    {
     "name": "stderr",
     "output_type": "stream",
     "text": [
      "Found only 9 unique classes in the data, but have defined 624222 classes. Probably something is wrong with data.\n"
     ]
    },
    {
     "name": "stdout",
     "output_type": "stream",
     "text": [
      "\u001b[32m[I 2022-09-06 20:06:22,020]\u001b[0m Trial 183 finished with value: 0.9698047396894233 and parameters: {'learning_rate': 0.26, '_depth': 7}. Best is trial 41 with value: 0.981013316687474.\u001b[0m\n"
     ]
    },
    {
     "name": "stderr",
     "output_type": "stream",
     "text": [
      "Found only 9 unique classes in the data, but have defined 624222 classes. Probably something is wrong with data.\n"
     ]
    },
    {
     "name": "stdout",
     "output_type": "stream",
     "text": [
      "\u001b[32m[I 2022-09-06 20:08:05,823]\u001b[0m Trial 184 finished with value: 0.9771146812098911 and parameters: {'learning_rate': 0.26, '_depth': 7}. Best is trial 41 with value: 0.981013316687474.\u001b[0m\n"
     ]
    },
    {
     "name": "stderr",
     "output_type": "stream",
     "text": [
      "Found only 9 unique classes in the data, but have defined 624222 classes. Probably something is wrong with data.\n"
     ]
    },
    {
     "name": "stdout",
     "output_type": "stream",
     "text": [
      "\u001b[32m[I 2022-09-06 20:09:34,173]\u001b[0m Trial 185 finished with value: 0.9531862584050638 and parameters: {'learning_rate': 0.5, '_depth': 1}. Best is trial 41 with value: 0.981013316687474.\u001b[0m\n"
     ]
    },
    {
     "name": "stderr",
     "output_type": "stream",
     "text": [
      "Found only 9 unique classes in the data, but have defined 624222 classes. Probably something is wrong with data.\n"
     ]
    },
    {
     "name": "stdout",
     "output_type": "stream",
     "text": [
      "\u001b[32m[I 2022-09-06 20:11:45,895]\u001b[0m Trial 186 finished with value: 0.9698047396894233 and parameters: {'learning_rate': 0.24, '_depth': 8}. Best is trial 41 with value: 0.981013316687474.\u001b[0m\n"
     ]
    },
    {
     "name": "stderr",
     "output_type": "stream",
     "text": [
      "Found only 9 unique classes in the data, but have defined 624222 classes. Probably something is wrong with data.\n"
     ]
    },
    {
     "name": "stdout",
     "output_type": "stream",
     "text": [
      "\u001b[32m[I 2022-09-06 20:13:58,420]\u001b[0m Trial 187 finished with value: 0.9790639989486826 and parameters: {'learning_rate': 0.26, '_depth': 7}. Best is trial 41 with value: 0.981013316687474.\u001b[0m\n"
     ]
    },
    {
     "name": "stderr",
     "output_type": "stream",
     "text": [
      "Found only 9 unique classes in the data, but have defined 624222 classes. Probably something is wrong with data.\n"
     ]
    },
    {
     "name": "stdout",
     "output_type": "stream",
     "text": [
      "\u001b[32m[I 2022-09-06 20:16:15,923]\u001b[0m Trial 188 finished with value: 0.9636319001832505 and parameters: {'learning_rate': 0.30000000000000004, '_depth': 9}. Best is trial 41 with value: 0.981013316687474.\u001b[0m\n"
     ]
    },
    {
     "name": "stderr",
     "output_type": "stream",
     "text": [
      "Found only 9 unique classes in the data, but have defined 624222 classes. Probably something is wrong with data.\n"
     ]
    },
    {
     "name": "stdout",
     "output_type": "stream",
     "text": [
      "\u001b[32m[I 2022-09-06 20:19:14,877]\u001b[0m Trial 189 finished with value: 0.9698047396894233 and parameters: {'learning_rate': 0.24, '_depth': 10}. Best is trial 41 with value: 0.981013316687474.\u001b[0m\n"
     ]
    },
    {
     "name": "stderr",
     "output_type": "stream",
     "text": [
      "Found only 9 unique classes in the data, but have defined 624222 classes. Probably something is wrong with data.\n"
     ]
    },
    {
     "name": "stdout",
     "output_type": "stream",
     "text": [
      "\u001b[32m[I 2022-09-06 20:21:06,529]\u001b[0m Trial 190 finished with value: 0.9790639989486826 and parameters: {'learning_rate': 0.26, '_depth': 7}. Best is trial 41 with value: 0.981013316687474.\u001b[0m\n"
     ]
    },
    {
     "name": "stderr",
     "output_type": "stream",
     "text": [
      "Found only 9 unique classes in the data, but have defined 624222 classes. Probably something is wrong with data.\n"
     ]
    },
    {
     "name": "stdout",
     "output_type": "stream",
     "text": [
      "\u001b[32m[I 2022-09-06 20:22:52,542]\u001b[0m Trial 191 finished with value: 0.9744333737533027 and parameters: {'learning_rate': 0.30000000000000004, '_depth': 3}. Best is trial 41 with value: 0.981013316687474.\u001b[0m\n"
     ]
    },
    {
     "name": "stderr",
     "output_type": "stream",
     "text": [
      "Found only 9 unique classes in the data, but have defined 624222 classes. Probably something is wrong with data.\n"
     ]
    },
    {
     "name": "stdout",
     "output_type": "stream",
     "text": [
      "\u001b[32m[I 2022-09-06 20:24:59,763]\u001b[0m Trial 192 finished with value: 0.9636319001832505 and parameters: {'learning_rate': 0.28, '_depth': 7}. Best is trial 41 with value: 0.981013316687474.\u001b[0m\n"
     ]
    },
    {
     "name": "stderr",
     "output_type": "stream",
     "text": [
      "Found only 9 unique classes in the data, but have defined 624222 classes. Probably something is wrong with data.\n"
     ]
    },
    {
     "name": "stdout",
     "output_type": "stream",
     "text": [
      "\u001b[32m[I 2022-09-06 20:26:40,118]\u001b[0m Trial 193 finished with value: 0.9651751100597937 and parameters: {'learning_rate': 0.32, '_depth': 4}. Best is trial 41 with value: 0.981013316687474.\u001b[0m\n"
     ]
    },
    {
     "name": "stderr",
     "output_type": "stream",
     "text": [
      "Found only 9 unique classes in the data, but have defined 624222 classes. Probably something is wrong with data.\n"
     ]
    },
    {
     "name": "stdout",
     "output_type": "stream",
     "text": [
      "\u001b[32m[I 2022-09-06 20:28:56,020]\u001b[0m Trial 194 finished with value: 0.9717540574282147 and parameters: {'learning_rate': 0.26, '_depth': 9}. Best is trial 41 with value: 0.981013316687474.\u001b[0m\n"
     ]
    },
    {
     "name": "stderr",
     "output_type": "stream",
     "text": [
      "Found only 9 unique classes in the data, but have defined 624222 classes. Probably something is wrong with data.\n"
     ]
    },
    {
     "name": "stdout",
     "output_type": "stream",
     "text": [
      "\u001b[32m[I 2022-09-06 20:30:46,650]\u001b[0m Trial 195 finished with value: 0.9678554219506318 and parameters: {'learning_rate': 0.28, '_depth': 7}. Best is trial 41 with value: 0.981013316687474.\u001b[0m\n"
     ]
    },
    {
     "name": "stderr",
     "output_type": "stream",
     "text": [
      "Found only 9 unique classes in the data, but have defined 624222 classes. Probably something is wrong with data.\n"
     ]
    },
    {
     "name": "stdout",
     "output_type": "stream",
     "text": [
      "\u001b[32m[I 2022-09-06 20:32:57,928]\u001b[0m Trial 196 finished with value: 0.9790639989486826 and parameters: {'learning_rate': 0.26, '_depth': 7}. Best is trial 41 with value: 0.981013316687474.\u001b[0m\n"
     ]
    },
    {
     "name": "stderr",
     "output_type": "stream",
     "text": [
      "Found only 9 unique classes in the data, but have defined 624222 classes. Probably something is wrong with data.\n"
     ]
    },
    {
     "name": "stdout",
     "output_type": "stream",
     "text": [
      "\u001b[32m[I 2022-09-06 20:35:26,244]\u001b[0m Trial 197 finished with value: 0.9717540574282147 and parameters: {'learning_rate': 0.24, '_depth': 9}. Best is trial 41 with value: 0.981013316687474.\u001b[0m\n"
     ]
    },
    {
     "name": "stderr",
     "output_type": "stream",
     "text": [
      "Found only 9 unique classes in the data, but have defined 624222 classes. Probably something is wrong with data.\n"
     ]
    },
    {
     "name": "stdout",
     "output_type": "stream",
     "text": [
      "\u001b[32m[I 2022-09-06 20:37:36,854]\u001b[0m Trial 198 finished with value: 0.9699607946207591 and parameters: {'learning_rate': 0.30000000000000004, '_depth': 9}. Best is trial 41 with value: 0.981013316687474.\u001b[0m\n"
     ]
    },
    {
     "name": "stderr",
     "output_type": "stream",
     "text": [
      "Found only 9 unique classes in the data, but have defined 624222 classes. Probably something is wrong with data.\n"
     ]
    },
    {
     "name": "stdout",
     "output_type": "stream",
     "text": [
      "\u001b[32m[I 2022-09-06 20:39:47,630]\u001b[0m Trial 199 finished with value: 0.9653301694253794 and parameters: {'learning_rate': 0.28, '_depth': 7}. Best is trial 41 with value: 0.981013316687474.\u001b[0m\n"
     ]
    },
    {
     "name": "stderr",
     "output_type": "stream",
     "text": [
      "Found only 9 unique classes in the data, but have defined 624222 classes. Probably something is wrong with data.\n"
     ]
    },
    {
     "name": "stdout",
     "output_type": "stream",
     "text": [
      "\u001b[32m[I 2022-09-06 20:41:31,459]\u001b[0m Trial 200 finished with value: 0.9771146812098911 and parameters: {'learning_rate': 0.26, '_depth': 7}. Best is trial 41 with value: 0.981013316687474.\u001b[0m\n"
     ]
    },
    {
     "name": "stderr",
     "output_type": "stream",
     "text": [
      "Found only 9 unique classes in the data, but have defined 624222 classes. Probably something is wrong with data.\n"
     ]
    },
    {
     "name": "stdout",
     "output_type": "stream",
     "text": [
      "\u001b[32m[I 2022-09-06 20:43:47,125]\u001b[0m Trial 201 finished with value: 0.9698047396894233 and parameters: {'learning_rate': 0.28, '_depth': 9}. Best is trial 41 with value: 0.981013316687474.\u001b[0m\n"
     ]
    },
    {
     "name": "stderr",
     "output_type": "stream",
     "text": [
      "Found only 9 unique classes in the data, but have defined 624222 classes. Probably something is wrong with data.\n"
     ]
    },
    {
     "name": "stdout",
     "output_type": "stream",
     "text": [
      "\u001b[32m[I 2022-09-06 20:45:42,623]\u001b[0m Trial 202 finished with value: 0.9678554219506318 and parameters: {'learning_rate': 0.26, '_depth': 7}. Best is trial 41 with value: 0.981013316687474.\u001b[0m\n"
     ]
    },
    {
     "name": "stderr",
     "output_type": "stream",
     "text": [
      "Found only 9 unique classes in the data, but have defined 624222 classes. Probably something is wrong with data.\n"
     ]
    },
    {
     "name": "stdout",
     "output_type": "stream",
     "text": [
      "\u001b[32m[I 2022-09-06 20:47:35,951]\u001b[0m Trial 203 finished with value: 0.9698047396894233 and parameters: {'learning_rate': 0.28, '_depth': 7}. Best is trial 41 with value: 0.981013316687474.\u001b[0m\n"
     ]
    },
    {
     "name": "stderr",
     "output_type": "stream",
     "text": [
      "Found only 9 unique classes in the data, but have defined 624222 classes. Probably something is wrong with data.\n"
     ]
    },
    {
     "name": "stdout",
     "output_type": "stream",
     "text": [
      "\u001b[32m[I 2022-09-06 20:49:27,713]\u001b[0m Trial 204 finished with value: 0.9790639989486826 and parameters: {'learning_rate': 0.26, '_depth': 7}. Best is trial 41 with value: 0.981013316687474.\u001b[0m\n"
     ]
    },
    {
     "name": "stderr",
     "output_type": "stream",
     "text": [
      "Found only 9 unique classes in the data, but have defined 624222 classes. Probably something is wrong with data.\n"
     ]
    },
    {
     "name": "stdout",
     "output_type": "stream",
     "text": [
      "\u001b[32m[I 2022-09-06 20:51:49,411]\u001b[0m Trial 205 finished with value: 0.9698047396894233 and parameters: {'learning_rate': 0.22, '_depth': 9}. Best is trial 41 with value: 0.981013316687474.\u001b[0m\n"
     ]
    },
    {
     "name": "stderr",
     "output_type": "stream",
     "text": [
      "Found only 9 unique classes in the data, but have defined 624222 classes. Probably something is wrong with data.\n"
     ]
    },
    {
     "name": "stdout",
     "output_type": "stream",
     "text": [
      "\u001b[32m[I 2022-09-06 20:53:34,092]\u001b[0m Trial 206 finished with value: 0.9771146812098911 and parameters: {'learning_rate': 0.26, '_depth': 7}. Best is trial 41 with value: 0.981013316687474.\u001b[0m\n"
     ]
    },
    {
     "name": "stderr",
     "output_type": "stream",
     "text": [
      "Found only 9 unique classes in the data, but have defined 624222 classes. Probably something is wrong with data.\n"
     ]
    },
    {
     "name": "stdout",
     "output_type": "stream",
     "text": [
      "\u001b[32m[I 2022-09-06 20:55:26,395]\u001b[0m Trial 207 finished with value: 0.9771146812098911 and parameters: {'learning_rate': 0.19999999999999998, '_depth': 5}. Best is trial 41 with value: 0.981013316687474.\u001b[0m\n"
     ]
    },
    {
     "name": "stderr",
     "output_type": "stream",
     "text": [
      "Found only 9 unique classes in the data, but have defined 624222 classes. Probably something is wrong with data.\n"
     ]
    },
    {
     "name": "stdout",
     "output_type": "stream",
     "text": [
      "\u001b[32m[I 2022-09-06 20:57:39,967]\u001b[0m Trial 208 finished with value: 0.9717540574282147 and parameters: {'learning_rate': 0.24, '_depth': 9}. Best is trial 41 with value: 0.981013316687474.\u001b[0m\n"
     ]
    },
    {
     "name": "stderr",
     "output_type": "stream",
     "text": [
      "Found only 9 unique classes in the data, but have defined 624222 classes. Probably something is wrong with data.\n"
     ]
    },
    {
     "name": "stdout",
     "output_type": "stream",
     "text": [
      "\u001b[32m[I 2022-09-06 20:59:50,877]\u001b[0m Trial 209 finished with value: 0.9790639989486826 and parameters: {'learning_rate': 0.26, '_depth': 7}. Best is trial 41 with value: 0.981013316687474.\u001b[0m\n"
     ]
    },
    {
     "name": "stderr",
     "output_type": "stream",
     "text": [
      "Found only 9 unique classes in the data, but have defined 624222 classes. Probably something is wrong with data.\n"
     ]
    },
    {
     "name": "stdout",
     "output_type": "stream",
     "text": [
      "\u001b[32m[I 2022-09-06 21:01:37,790]\u001b[0m Trial 210 finished with value: 0.9771146812098911 and parameters: {'learning_rate': 0.28, '_depth': 7}. Best is trial 41 with value: 0.981013316687474.\u001b[0m\n"
     ]
    },
    {
     "name": "stderr",
     "output_type": "stream",
     "text": [
      "Found only 9 unique classes in the data, but have defined 624222 classes. Probably something is wrong with data.\n"
     ]
    },
    {
     "name": "stdout",
     "output_type": "stream",
     "text": [
      "\u001b[32m[I 2022-09-06 21:04:11,767]\u001b[0m Trial 211 finished with value: 0.9717540574282147 and parameters: {'learning_rate': 0.24, '_depth': 9}. Best is trial 41 with value: 0.981013316687474.\u001b[0m\n"
     ]
    },
    {
     "name": "stderr",
     "output_type": "stream",
     "text": [
      "Found only 9 unique classes in the data, but have defined 624222 classes. Probably something is wrong with data.\n"
     ]
    },
    {
     "name": "stdout",
     "output_type": "stream",
     "text": [
      "\u001b[32m[I 2022-09-06 21:06:22,178]\u001b[0m Trial 212 finished with value: 0.9790639989486826 and parameters: {'learning_rate': 0.26, '_depth': 7}. Best is trial 41 with value: 0.981013316687474.\u001b[0m\n"
     ]
    },
    {
     "name": "stderr",
     "output_type": "stream",
     "text": [
      "Found only 9 unique classes in the data, but have defined 624222 classes. Probably something is wrong with data.\n"
     ]
    },
    {
     "name": "stdout",
     "output_type": "stream",
     "text": [
      "\u001b[32m[I 2022-09-06 21:08:13,127]\u001b[0m Trial 213 finished with value: 0.9790639989486826 and parameters: {'learning_rate': 0.26, '_depth': 7}. Best is trial 41 with value: 0.981013316687474.\u001b[0m\n"
     ]
    },
    {
     "name": "stderr",
     "output_type": "stream",
     "text": [
      "Found only 9 unique classes in the data, but have defined 624222 classes. Probably something is wrong with data.\n"
     ]
    },
    {
     "name": "stdout",
     "output_type": "stream",
     "text": [
      "\u001b[32m[I 2022-09-06 21:10:24,658]\u001b[0m Trial 214 finished with value: 0.9790639989486826 and parameters: {'learning_rate': 0.26, '_depth': 7}. Best is trial 41 with value: 0.981013316687474.\u001b[0m\n"
     ]
    },
    {
     "name": "stderr",
     "output_type": "stream",
     "text": [
      "Found only 9 unique classes in the data, but have defined 624222 classes. Probably something is wrong with data.\n"
     ]
    },
    {
     "name": "stdout",
     "output_type": "stream",
     "text": [
      "\u001b[32m[I 2022-09-06 21:12:28,670]\u001b[0m Trial 215 finished with value: 0.9790639989486826 and parameters: {'learning_rate': 0.26, '_depth': 7}. Best is trial 41 with value: 0.981013316687474.\u001b[0m\n"
     ]
    },
    {
     "name": "stderr",
     "output_type": "stream",
     "text": [
      "Found only 9 unique classes in the data, but have defined 624222 classes. Probably something is wrong with data.\n"
     ]
    },
    {
     "name": "stdout",
     "output_type": "stream",
     "text": [
      "\u001b[32m[I 2022-09-06 21:14:24,696]\u001b[0m Trial 216 finished with value: 0.9790639989486826 and parameters: {'learning_rate': 0.28, '_depth': 7}. Best is trial 41 with value: 0.981013316687474.\u001b[0m\n"
     ]
    },
    {
     "name": "stderr",
     "output_type": "stream",
     "text": [
      "Found only 9 unique classes in the data, but have defined 624222 classes. Probably something is wrong with data.\n"
     ]
    },
    {
     "name": "stdout",
     "output_type": "stream",
     "text": [
      "\u001b[32m[I 2022-09-06 21:16:31,626]\u001b[0m Trial 217 finished with value: 0.9698047396894233 and parameters: {'learning_rate': 0.30000000000000004, '_depth': 8}. Best is trial 41 with value: 0.981013316687474.\u001b[0m\n"
     ]
    },
    {
     "name": "stderr",
     "output_type": "stream",
     "text": [
      "Found only 9 unique classes in the data, but have defined 624222 classes. Probably something is wrong with data.\n"
     ]
    },
    {
     "name": "stdout",
     "output_type": "stream",
     "text": [
      "\u001b[32m[I 2022-09-06 21:18:23,923]\u001b[0m Trial 218 finished with value: 0.9790639989486826 and parameters: {'learning_rate': 0.28, '_depth': 7}. Best is trial 41 with value: 0.981013316687474.\u001b[0m\n"
     ]
    },
    {
     "name": "stderr",
     "output_type": "stream",
     "text": [
      "Found only 9 unique classes in the data, but have defined 624222 classes. Probably something is wrong with data.\n"
     ]
    },
    {
     "name": "stdout",
     "output_type": "stream",
     "text": [
      "\u001b[32m[I 2022-09-06 21:20:03,837]\u001b[0m Trial 219 finished with value: 0.9678554219506318 and parameters: {'learning_rate': 0.28, '_depth': 7}. Best is trial 41 with value: 0.981013316687474.\u001b[0m\n"
     ]
    },
    {
     "name": "stderr",
     "output_type": "stream",
     "text": [
      "Found only 9 unique classes in the data, but have defined 624222 classes. Probably something is wrong with data.\n"
     ]
    },
    {
     "name": "stdout",
     "output_type": "stream",
     "text": [
      "\u001b[32m[I 2022-09-06 21:21:33,806]\u001b[0m Trial 220 finished with value: 0.9698047396894233 and parameters: {'learning_rate': 0.30000000000000004, '_depth': 6}. Best is trial 41 with value: 0.981013316687474.\u001b[0m\n"
     ]
    },
    {
     "name": "stderr",
     "output_type": "stream",
     "text": [
      "Found only 9 unique classes in the data, but have defined 624222 classes. Probably something is wrong with data.\n"
     ]
    },
    {
     "name": "stdout",
     "output_type": "stream",
     "text": [
      "\u001b[32m[I 2022-09-06 21:23:24,773]\u001b[0m Trial 221 finished with value: 0.9790639989486826 and parameters: {'learning_rate': 0.28, '_depth': 7}. Best is trial 41 with value: 0.981013316687474.\u001b[0m\n"
     ]
    },
    {
     "name": "stderr",
     "output_type": "stream",
     "text": [
      "Found only 9 unique classes in the data, but have defined 624222 classes. Probably something is wrong with data.\n"
     ]
    },
    {
     "name": "stdout",
     "output_type": "stream",
     "text": [
      "\u001b[32m[I 2022-09-06 21:25:16,434]\u001b[0m Trial 222 finished with value: 0.9790639989486826 and parameters: {'learning_rate': 0.26, '_depth': 7}. Best is trial 41 with value: 0.981013316687474.\u001b[0m\n"
     ]
    },
    {
     "name": "stderr",
     "output_type": "stream",
     "text": [
      "Found only 9 unique classes in the data, but have defined 624222 classes. Probably something is wrong with data.\n"
     ]
    },
    {
     "name": "stdout",
     "output_type": "stream",
     "text": [
      "\u001b[32m[I 2022-09-06 21:27:23,577]\u001b[0m Trial 223 finished with value: 0.9771146812098911 and parameters: {'learning_rate': 0.22, '_depth': 6}. Best is trial 41 with value: 0.981013316687474.\u001b[0m\n"
     ]
    },
    {
     "name": "stderr",
     "output_type": "stream",
     "text": [
      "Found only 9 unique classes in the data, but have defined 624222 classes. Probably something is wrong with data.\n"
     ]
    },
    {
     "name": "stdout",
     "output_type": "stream",
     "text": [
      "\u001b[32m[I 2022-09-06 21:29:34,092]\u001b[0m Trial 224 finished with value: 0.9771146812098911 and parameters: {'learning_rate': 0.24, '_depth': 8}. Best is trial 41 with value: 0.981013316687474.\u001b[0m\n"
     ]
    },
    {
     "name": "stderr",
     "output_type": "stream",
     "text": [
      "Found only 9 unique classes in the data, but have defined 624222 classes. Probably something is wrong with data.\n"
     ]
    },
    {
     "name": "stdout",
     "output_type": "stream",
     "text": [
      "\u001b[32m[I 2022-09-06 21:31:29,078]\u001b[0m Trial 225 finished with value: 0.9678554219506318 and parameters: {'learning_rate': 0.26, '_depth': 7}. Best is trial 41 with value: 0.981013316687474.\u001b[0m\n"
     ]
    },
    {
     "name": "stderr",
     "output_type": "stream",
     "text": [
      "Found only 9 unique classes in the data, but have defined 624222 classes. Probably something is wrong with data.\n"
     ]
    },
    {
     "name": "stdout",
     "output_type": "stream",
     "text": [
      "\u001b[32m[I 2022-09-06 21:33:21,749]\u001b[0m Trial 226 finished with value: 0.9559158508005344 and parameters: {'learning_rate': 0.24, '_depth': 3}. Best is trial 41 with value: 0.981013316687474.\u001b[0m\n"
     ]
    },
    {
     "name": "stderr",
     "output_type": "stream",
     "text": [
      "Found only 9 unique classes in the data, but have defined 624222 classes. Probably something is wrong with data.\n"
     ]
    },
    {
     "name": "stdout",
     "output_type": "stream",
     "text": [
      "\u001b[32m[I 2022-09-06 21:35:11,382]\u001b[0m Trial 227 finished with value: 0.9698047396894233 and parameters: {'learning_rate': 0.24, '_depth': 7}. Best is trial 41 with value: 0.981013316687474.\u001b[0m\n"
     ]
    },
    {
     "name": "stderr",
     "output_type": "stream",
     "text": [
      "Found only 9 unique classes in the data, but have defined 624222 classes. Probably something is wrong with data.\n"
     ]
    },
    {
     "name": "stdout",
     "output_type": "stream",
     "text": [
      "\u001b[32m[I 2022-09-06 21:37:22,542]\u001b[0m Trial 228 finished with value: 0.9790639989486826 and parameters: {'learning_rate': 0.26, '_depth': 7}. Best is trial 41 with value: 0.981013316687474.\u001b[0m\n"
     ]
    },
    {
     "name": "stderr",
     "output_type": "stream",
     "text": [
      "Found only 9 unique classes in the data, but have defined 624222 classes. Probably something is wrong with data.\n"
     ]
    },
    {
     "name": "stdout",
     "output_type": "stream",
     "text": [
      "\u001b[32m[I 2022-09-06 21:39:21,697]\u001b[0m Trial 229 finished with value: 0.9771146812098911 and parameters: {'learning_rate': 0.32, '_depth': 9}. Best is trial 41 with value: 0.981013316687474.\u001b[0m\n"
     ]
    },
    {
     "name": "stderr",
     "output_type": "stream",
     "text": [
      "Found only 9 unique classes in the data, but have defined 624222 classes. Probably something is wrong with data.\n"
     ]
    },
    {
     "name": "stdout",
     "output_type": "stream",
     "text": [
      "\u001b[32m[I 2022-09-06 21:41:05,654]\u001b[0m Trial 230 finished with value: 0.9771146812098911 and parameters: {'learning_rate': 0.26, '_depth': 7}. Best is trial 41 with value: 0.981013316687474.\u001b[0m\n"
     ]
    },
    {
     "name": "stderr",
     "output_type": "stream",
     "text": [
      "Found only 9 unique classes in the data, but have defined 624222 classes. Probably something is wrong with data.\n"
     ]
    },
    {
     "name": "stdout",
     "output_type": "stream",
     "text": [
      "\u001b[32m[I 2022-09-06 21:42:58,436]\u001b[0m Trial 231 finished with value: 0.9678554219506318 and parameters: {'learning_rate': 0.28, '_depth': 7}. Best is trial 41 with value: 0.981013316687474.\u001b[0m\n"
     ]
    },
    {
     "name": "stderr",
     "output_type": "stream",
     "text": [
      "Found only 9 unique classes in the data, but have defined 624222 classes. Probably something is wrong with data.\n"
     ]
    },
    {
     "name": "stdout",
     "output_type": "stream",
     "text": [
      "\u001b[32m[I 2022-09-06 21:45:09,795]\u001b[0m Trial 232 finished with value: 0.9790639989486826 and parameters: {'learning_rate': 0.26, '_depth': 7}. Best is trial 41 with value: 0.981013316687474.\u001b[0m\n"
     ]
    },
    {
     "name": "stderr",
     "output_type": "stream",
     "text": [
      "Found only 9 unique classes in the data, but have defined 624222 classes. Probably something is wrong with data.\n"
     ]
    },
    {
     "name": "stdout",
     "output_type": "stream",
     "text": [
      "\u001b[32m[I 2022-09-06 21:47:29,498]\u001b[0m Trial 233 finished with value: 0.9717540574282147 and parameters: {'learning_rate': 0.28, '_depth': 9}. Best is trial 41 with value: 0.981013316687474.\u001b[0m\n"
     ]
    },
    {
     "name": "stderr",
     "output_type": "stream",
     "text": [
      "Found only 9 unique classes in the data, but have defined 624222 classes. Probably something is wrong with data.\n"
     ]
    },
    {
     "name": "stdout",
     "output_type": "stream",
     "text": [
      "\u001b[32m[I 2022-09-06 21:50:51,580]\u001b[0m Trial 234 finished with value: 0.9678554219506318 and parameters: {'learning_rate': 0.06, '_depth': 7}. Best is trial 41 with value: 0.981013316687474.\u001b[0m\n"
     ]
    },
    {
     "name": "stderr",
     "output_type": "stream",
     "text": [
      "Found only 9 unique classes in the data, but have defined 624222 classes. Probably something is wrong with data.\n"
     ]
    },
    {
     "name": "stdout",
     "output_type": "stream",
     "text": [
      "\u001b[32m[I 2022-09-06 21:52:39,203]\u001b[0m Trial 235 finished with value: 0.9698047396894233 and parameters: {'learning_rate': 0.26, '_depth': 7}. Best is trial 41 with value: 0.981013316687474.\u001b[0m\n"
     ]
    },
    {
     "name": "stderr",
     "output_type": "stream",
     "text": [
      "Found only 9 unique classes in the data, but have defined 624222 classes. Probably something is wrong with data.\n"
     ]
    },
    {
     "name": "stdout",
     "output_type": "stream",
     "text": [
      "\u001b[32m[I 2022-09-06 21:54:29,740]\u001b[0m Trial 236 finished with value: 0.9790639989486826 and parameters: {'learning_rate': 0.26, '_depth': 7}. Best is trial 41 with value: 0.981013316687474.\u001b[0m\n"
     ]
    },
    {
     "name": "stderr",
     "output_type": "stream",
     "text": [
      "Found only 9 unique classes in the data, but have defined 624222 classes. Probably something is wrong with data.\n"
     ]
    },
    {
     "name": "stdout",
     "output_type": "stream",
     "text": [
      "\u001b[32m[I 2022-09-06 21:56:39,944]\u001b[0m Trial 237 finished with value: 0.9790639989486826 and parameters: {'learning_rate': 0.26, '_depth': 7}. Best is trial 41 with value: 0.981013316687474.\u001b[0m\n"
     ]
    },
    {
     "name": "stderr",
     "output_type": "stream",
     "text": [
      "Found only 9 unique classes in the data, but have defined 624222 classes. Probably something is wrong with data.\n"
     ]
    },
    {
     "name": "stdout",
     "output_type": "stream",
     "text": [
      "\u001b[32m[I 2022-09-06 21:58:31,004]\u001b[0m Trial 238 finished with value: 0.9790639989486826 and parameters: {'learning_rate': 0.26, '_depth': 7}. Best is trial 41 with value: 0.981013316687474.\u001b[0m\n"
     ]
    },
    {
     "name": "stderr",
     "output_type": "stream",
     "text": [
      "Found only 9 unique classes in the data, but have defined 624222 classes. Probably something is wrong with data.\n"
     ]
    },
    {
     "name": "stdout",
     "output_type": "stream",
     "text": [
      "\u001b[32m[I 2022-09-06 22:00:53,977]\u001b[0m Trial 239 finished with value: 0.9699607946207591 and parameters: {'learning_rate': 0.30000000000000004, '_depth': 9}. Best is trial 41 with value: 0.981013316687474.\u001b[0m\n"
     ]
    }
   ],
   "source": [
    "#optuna\n",
    "import optuna\n",
    "def objective(trial):\n",
    "   \n",
    "    catboost_params = {\n",
    "    'learning_rate':  trial.suggest_discrete_uniform(\"learning_rate\", 0.02, 0.5, 0.02),\n",
    "    'depth': trial.suggest_int(\"_depth\", 1, 10),   \n",
    "    'iterations': 3000,\n",
    "    'random_state':1,    \n",
    "    'task_type': 'GPU',\n",
    "    'early_stopping_rounds': 10,\n",
    "    'use_best_model': True,\n",
    "    'verbose': False,\n",
    "    'class_names': y_train}\n",
    "    model = CatBoostClassifier(**catboost_params)\n",
    "    model.fit(pool_train, eval_set = pool_test)\n",
    "    \n",
    "    y_pred = model.predict(X_eval,prediction_type = 'Class')\n",
    "    test_pred = y_eval\n",
    "    \n",
    "    score = recall_score(test_pred, y_pred, average='macro')\n",
    "    return score\n",
    "\n",
    "study = optuna.create_study(direction = \"maximize\")\n",
    "study.optimize(objective, n_trials=10000, timeout=30000, show_progress_bar = True)"
   ]
  },
  {
   "cell_type": "code",
   "execution_count": 263,
   "id": "724b2605",
   "metadata": {},
   "outputs": [
    {
     "data": {
      "text/plain": [
       "0.981013316687474"
      ]
     },
     "execution_count": 263,
     "metadata": {},
     "output_type": "execute_result"
    }
   ],
   "source": [
    "study.best_value"
   ]
  },
  {
   "cell_type": "code",
   "execution_count": 264,
   "id": "8ceacf39",
   "metadata": {},
   "outputs": [
    {
     "data": {
      "application/vnd.plotly.v1+json": {
       "config": {
        "plotlyServerURL": "https://plot.ly"
       },
       "data": [
        {
         "colorbar": {
          "title": {
           "text": "Objective Value"
          }
         },
         "colorscale": [
          [
           0,
           "rgb(5,10,172)"
          ],
          [
           0.35,
           "rgb(40,60,190)"
          ],
          [
           0.5,
           "rgb(70,100,245)"
          ],
          [
           0.6,
           "rgb(90,120,245)"
          ],
          [
           0.7,
           "rgb(106,137,247)"
          ],
          [
           1,
           "rgb(220,220,220)"
          ]
         ],
         "connectgaps": true,
         "contours": {
          "coloring": "heatmap"
         },
         "hoverinfo": "none",
         "line": {
          "smoothing": 1.3
         },
         "reversescale": false,
         "type": "contour",
         "x": [
          0.55,
          1,
          2,
          3,
          4,
          5,
          6,
          7,
          8,
          9,
          10,
          10.45
         ],
         "y": [
          -0.004,
          0.02,
          0.06,
          0.1,
          0.12000000000000001,
          0.13999999999999999,
          0.16,
          0.18,
          0.19999999999999998,
          0.22,
          0.24,
          0.26,
          0.28,
          0.30000000000000004,
          0.32,
          0.34,
          0.36000000000000004,
          0.38,
          0.4,
          0.44,
          0.46,
          0.5,
          0.524
         ],
         "z": [
          [
           null,
           null,
           null,
           null,
           null,
           null,
           null,
           null,
           null,
           null,
           null,
           null
          ],
          [
           null,
           null,
           null,
           null,
           null,
           0.9675433120879602,
           null,
           null,
           null,
           0.9698047396894233,
           null,
           null
          ],
          [
           null,
           null,
           null,
           null,
           0.9676993670192959,
           null,
           null,
           0.9678554219506318,
           null,
           null,
           null,
           null
          ],
          [
           null,
           null,
           null,
           0.9676993670192959,
           0.9769586262785553,
           null,
           0.9696486847580874,
           null,
           null,
           null,
           null,
           null
          ],
          [
           null,
           null,
           null,
           null,
           null,
           0.9678554219506318,
           null,
           null,
           null,
           null,
           null,
           null
          ],
          [
           null,
           null,
           0.9675433120879602,
           null,
           null,
           null,
           null,
           null,
           0.9717540574282147,
           0.9698047396894233,
           null,
           null
          ],
          [
           null,
           null,
           0.9769586262785553,
           0.9771146812098911,
           null,
           0.9769586262785553,
           null,
           null,
           null,
           null,
           null,
           null
          ],
          [
           null,
           0.9358083097882033,
           null,
           0.9678554219506318,
           null,
           0.9771146812098911,
           null,
           null,
           0.9698047396894233,
           0.9698047396894233,
           null,
           null
          ],
          [
           null,
           null,
           null,
           0.9771146812098911,
           null,
           0.9771146812098911,
           0.9678554219506318,
           null,
           0.9771146812098911,
           0.9698047396894233,
           0.9698047396894233,
           null
          ],
          [
           null,
           null,
           0.9675433120879602,
           0.9678554219506318,
           null,
           0.9678554219506318,
           0.9771146812098911,
           0.9678554219506318,
           0.9771146812098911,
           0.9698047396894233,
           0.9698047396894233,
           null
          ],
          [
           null,
           null,
           null,
           0.9559158508005344,
           0.9678554219506318,
           null,
           0.9751653634710996,
           0.9698047396894233,
           0.9771146812098911,
           0.9717540574282147,
           0.9698047396894233,
           null
          ],
          [
           null,
           null,
           0.9676993670192959,
           null,
           0.9538104781304071,
           null,
           0.9570529528148294,
           0.9790639989486826,
           0.9698047396894233,
           0.9717540574282147,
           0.9653301694253794,
           null
          ],
          [
           null,
           0.9492180044368099,
           null,
           0.9678554219506318,
           0.9676993670192959,
           0.9497430112943616,
           0.9653301694253794,
           0.9678554219506318,
           0.9698047396894233,
           0.9717540574282147,
           0.9698047396894233,
           null
          ],
          [
           null,
           null,
           0.9771146812098911,
           0.9744333737533027,
           0.9790639989486826,
           null,
           0.9698047396894233,
           0.9698047396894233,
           0.9698047396894233,
           0.9699607946207591,
           null,
           null
          ],
          [
           null,
           null,
           0.9769586262785553,
           0.9636319001832505,
           0.9651751100597937,
           0.9653301694253794,
           0.9559158508005344,
           null,
           0.9698047396894233,
           0.9771146812098911,
           0.9698047396894233,
           null
          ],
          [
           null,
           null,
           null,
           0.9771146812098911,
           0.9696486847580874,
           null,
           null,
           null,
           null,
           0.9717540574282147,
           null,
           null
          ],
          [
           null,
           null,
           0.9653301694253794,
           null,
           0.9672794871641707,
           null,
           null,
           0.9728911594425098,
           null,
           null,
           null,
           null
          ],
          [
           null,
           null,
           null,
           0.9769586262785553,
           null,
           null,
           0.9607005397957497,
           null,
           null,
           null,
           null,
           null
          ],
          [
           null,
           0.9742773188219669,
           null,
           null,
           null,
           0.953041232920003,
           null,
           null,
           null,
           0.9636319001832505,
           null,
           null
          ],
          [
           null,
           null,
           null,
           null,
           null,
           null,
           null,
           null,
           null,
           null,
           0.9658364857211694,
           null
          ],
          [
           null,
           null,
           null,
           0.9556890822562022,
           null,
           null,
           null,
           null,
           null,
           0.9430254788031252,
           null,
           null
          ],
          [
           null,
           0.9531862584050638,
           null,
           null,
           null,
           null,
           null,
           0.8981422790510116,
           null,
           null,
           null,
           null
          ],
          [
           null,
           null,
           null,
           null,
           null,
           null,
           null,
           null,
           null,
           null,
           null,
           null
          ]
         ]
        },
        {
         "marker": {
          "color": "black",
          "line": {
           "color": "Grey",
           "width": 0.5
          }
         },
         "mode": "markers",
         "showlegend": false,
         "type": "scatter",
         "x": [
          5,
          9,
          6,
          9,
          5,
          6,
          3,
          4,
          6,
          8,
          1,
          3,
          3,
          3,
          1,
          4,
          2,
          4,
          7,
          4,
          2,
          3,
          2,
          4,
          3,
          5,
          5,
          7,
          10,
          5,
          5,
          7,
          7,
          8,
          7,
          8,
          6,
          4,
          6,
          5,
          9,
          9,
          10,
          9,
          9,
          9,
          8,
          10,
          8,
          6,
          10,
          9,
          4,
          9,
          3,
          2,
          4,
          3,
          5,
          7,
          3,
          3,
          2,
          7,
          4,
          1,
          3,
          6,
          4,
          5,
          2,
          5,
          8,
          8,
          8,
          2,
          9,
          9,
          9,
          8,
          10,
          7,
          9,
          7,
          8,
          8,
          9,
          7,
          6,
          10,
          9,
          5,
          3,
          3,
          8,
          4,
          4,
          7,
          4,
          9,
          6,
          4,
          3,
          4,
          3,
          5,
          10,
          8,
          9,
          9,
          10,
          9,
          9,
          2,
          8,
          9,
          9,
          9,
          9,
          10,
          10,
          10,
          9,
          8,
          8,
          9,
          9,
          9,
          10,
          7,
          10,
          9,
          8,
          9,
          10,
          9,
          9,
          8,
          9,
          7,
          7,
          7,
          7,
          8,
          9,
          9,
          9,
          7,
          9,
          6,
          7,
          3,
          6,
          9,
          9,
          7,
          7,
          3,
          10,
          8,
          8,
          9,
          7,
          9,
          7,
          7,
          8,
          7,
          7,
          7,
          6,
          7,
          7,
          7,
          8,
          7,
          6,
          6,
          9,
          7,
          9,
          7,
          8,
          7,
          7,
          1,
          8,
          7,
          9,
          10,
          7,
          3,
          7,
          4,
          9,
          7,
          7,
          9,
          9,
          7,
          7,
          9,
          7,
          7,
          7,
          9,
          7,
          5,
          9,
          7,
          7,
          9,
          7,
          7,
          7,
          7,
          7,
          8,
          7,
          7,
          6,
          7,
          7,
          6,
          8,
          7,
          3,
          7,
          7,
          9,
          7,
          7,
          7,
          9,
          7,
          7,
          7,
          7,
          7,
          9
         ],
         "y": [
          0.28,
          0.02,
          0.24,
          0.4,
          0.12000000000000001,
          0.28,
          0.46,
          0.30000000000000004,
          0.30000000000000004,
          0.13999999999999999,
          0.4,
          0.18,
          0.19999999999999998,
          0.34,
          0.18,
          0.06,
          0.22,
          0.36000000000000004,
          0.5,
          0.1,
          0.32,
          0.34,
          0.36000000000000004,
          0.24,
          0.34,
          0.19999999999999998,
          0.4,
          0.26,
          0.44,
          0.28,
          0.16,
          0.24,
          0.22,
          0.30000000000000004,
          0.26,
          0.24,
          0.19999999999999998,
          0.28,
          0.1,
          0.32,
          0.26,
          0.26,
          0.26,
          0.30000000000000004,
          0.19999999999999998,
          0.13999999999999999,
          0.26,
          0.22,
          0.18,
          0.38,
          0.28,
          0.32,
          0.34,
          0.24,
          0.30000000000000004,
          0.30000000000000004,
          0.26,
          0.22,
          0.02,
          0.30000000000000004,
          0.16,
          0.16,
          0.16,
          0.24,
          0.36000000000000004,
          0.28,
          0.1,
          0.26,
          0.34,
          0.18,
          0.13999999999999999,
          0.19999999999999998,
          0.24,
          0.22,
          0.22,
          0.30000000000000004,
          0.32,
          0.32,
          0.28,
          0.32,
          0.24,
          0.26,
          0.28,
          0.26,
          0.26,
          0.19999999999999998,
          0.30000000000000004,
          0.36000000000000004,
          0.24,
          0.32,
          0.26,
          0.22,
          0.38,
          0.30000000000000004,
          0.28,
          0.30000000000000004,
          0.30000000000000004,
          0.24,
          0.26,
          0.34,
          0.28,
          0.30000000000000004,
          0.32,
          0.30000000000000004,
          0.28,
          0.32,
          0.24,
          0.28,
          0.30000000000000004,
          0.26,
          0.32,
          0.30000000000000004,
          0.34,
          0.26,
          0.30000000000000004,
          0.28,
          0.28,
          0.26,
          0.28,
          0.24,
          0.24,
          0.28,
          0.22,
          0.22,
          0.22,
          0.19999999999999998,
          0.46,
          0.18,
          0.24,
          0.22,
          0.19999999999999998,
          0.26,
          0.18,
          0.22,
          0.24,
          0.26,
          0.28,
          0.19999999999999998,
          0.24,
          0.26,
          0.26,
          0.26,
          0.24,
          0.22,
          0.30000000000000004,
          0.28,
          0.30000000000000004,
          0.26,
          0.28,
          0.24,
          0.26,
          0.32,
          0.26,
          0.28,
          0.24,
          0.22,
          0.28,
          0.30000000000000004,
          0.26,
          0.26,
          0.19999999999999998,
          0.24,
          0.26,
          0.30000000000000004,
          0.28,
          0.22,
          0.26,
          0.26,
          0.24,
          0.28,
          0.32,
          0.28,
          0.28,
          0.28,
          0.30000000000000004,
          0.24,
          0.32,
          0.28,
          0.28,
          0.26,
          0.22,
          0.26,
          0.24,
          0.26,
          0.26,
          0.5,
          0.24,
          0.26,
          0.30000000000000004,
          0.24,
          0.26,
          0.30000000000000004,
          0.28,
          0.32,
          0.26,
          0.28,
          0.26,
          0.24,
          0.30000000000000004,
          0.28,
          0.26,
          0.28,
          0.26,
          0.28,
          0.26,
          0.22,
          0.26,
          0.19999999999999998,
          0.24,
          0.26,
          0.28,
          0.24,
          0.26,
          0.26,
          0.26,
          0.26,
          0.28,
          0.30000000000000004,
          0.28,
          0.28,
          0.30000000000000004,
          0.28,
          0.26,
          0.22,
          0.24,
          0.26,
          0.24,
          0.24,
          0.26,
          0.32,
          0.26,
          0.28,
          0.26,
          0.28,
          0.06,
          0.26,
          0.26,
          0.26,
          0.26,
          0.30000000000000004
         ]
        }
       ],
       "layout": {
        "template": {
         "data": {
          "bar": [
           {
            "error_x": {
             "color": "#2a3f5f"
            },
            "error_y": {
             "color": "#2a3f5f"
            },
            "marker": {
             "line": {
              "color": "#E5ECF6",
              "width": 0.5
             },
             "pattern": {
              "fillmode": "overlay",
              "size": 10,
              "solidity": 0.2
             }
            },
            "type": "bar"
           }
          ],
          "barpolar": [
           {
            "marker": {
             "line": {
              "color": "#E5ECF6",
              "width": 0.5
             },
             "pattern": {
              "fillmode": "overlay",
              "size": 10,
              "solidity": 0.2
             }
            },
            "type": "barpolar"
           }
          ],
          "carpet": [
           {
            "aaxis": {
             "endlinecolor": "#2a3f5f",
             "gridcolor": "white",
             "linecolor": "white",
             "minorgridcolor": "white",
             "startlinecolor": "#2a3f5f"
            },
            "baxis": {
             "endlinecolor": "#2a3f5f",
             "gridcolor": "white",
             "linecolor": "white",
             "minorgridcolor": "white",
             "startlinecolor": "#2a3f5f"
            },
            "type": "carpet"
           }
          ],
          "choropleth": [
           {
            "colorbar": {
             "outlinewidth": 0,
             "ticks": ""
            },
            "type": "choropleth"
           }
          ],
          "contour": [
           {
            "colorbar": {
             "outlinewidth": 0,
             "ticks": ""
            },
            "colorscale": [
             [
              0,
              "#0d0887"
             ],
             [
              0.1111111111111111,
              "#46039f"
             ],
             [
              0.2222222222222222,
              "#7201a8"
             ],
             [
              0.3333333333333333,
              "#9c179e"
             ],
             [
              0.4444444444444444,
              "#bd3786"
             ],
             [
              0.5555555555555556,
              "#d8576b"
             ],
             [
              0.6666666666666666,
              "#ed7953"
             ],
             [
              0.7777777777777778,
              "#fb9f3a"
             ],
             [
              0.8888888888888888,
              "#fdca26"
             ],
             [
              1,
              "#f0f921"
             ]
            ],
            "type": "contour"
           }
          ],
          "contourcarpet": [
           {
            "colorbar": {
             "outlinewidth": 0,
             "ticks": ""
            },
            "type": "contourcarpet"
           }
          ],
          "heatmap": [
           {
            "colorbar": {
             "outlinewidth": 0,
             "ticks": ""
            },
            "colorscale": [
             [
              0,
              "#0d0887"
             ],
             [
              0.1111111111111111,
              "#46039f"
             ],
             [
              0.2222222222222222,
              "#7201a8"
             ],
             [
              0.3333333333333333,
              "#9c179e"
             ],
             [
              0.4444444444444444,
              "#bd3786"
             ],
             [
              0.5555555555555556,
              "#d8576b"
             ],
             [
              0.6666666666666666,
              "#ed7953"
             ],
             [
              0.7777777777777778,
              "#fb9f3a"
             ],
             [
              0.8888888888888888,
              "#fdca26"
             ],
             [
              1,
              "#f0f921"
             ]
            ],
            "type": "heatmap"
           }
          ],
          "heatmapgl": [
           {
            "colorbar": {
             "outlinewidth": 0,
             "ticks": ""
            },
            "colorscale": [
             [
              0,
              "#0d0887"
             ],
             [
              0.1111111111111111,
              "#46039f"
             ],
             [
              0.2222222222222222,
              "#7201a8"
             ],
             [
              0.3333333333333333,
              "#9c179e"
             ],
             [
              0.4444444444444444,
              "#bd3786"
             ],
             [
              0.5555555555555556,
              "#d8576b"
             ],
             [
              0.6666666666666666,
              "#ed7953"
             ],
             [
              0.7777777777777778,
              "#fb9f3a"
             ],
             [
              0.8888888888888888,
              "#fdca26"
             ],
             [
              1,
              "#f0f921"
             ]
            ],
            "type": "heatmapgl"
           }
          ],
          "histogram": [
           {
            "marker": {
             "pattern": {
              "fillmode": "overlay",
              "size": 10,
              "solidity": 0.2
             }
            },
            "type": "histogram"
           }
          ],
          "histogram2d": [
           {
            "colorbar": {
             "outlinewidth": 0,
             "ticks": ""
            },
            "colorscale": [
             [
              0,
              "#0d0887"
             ],
             [
              0.1111111111111111,
              "#46039f"
             ],
             [
              0.2222222222222222,
              "#7201a8"
             ],
             [
              0.3333333333333333,
              "#9c179e"
             ],
             [
              0.4444444444444444,
              "#bd3786"
             ],
             [
              0.5555555555555556,
              "#d8576b"
             ],
             [
              0.6666666666666666,
              "#ed7953"
             ],
             [
              0.7777777777777778,
              "#fb9f3a"
             ],
             [
              0.8888888888888888,
              "#fdca26"
             ],
             [
              1,
              "#f0f921"
             ]
            ],
            "type": "histogram2d"
           }
          ],
          "histogram2dcontour": [
           {
            "colorbar": {
             "outlinewidth": 0,
             "ticks": ""
            },
            "colorscale": [
             [
              0,
              "#0d0887"
             ],
             [
              0.1111111111111111,
              "#46039f"
             ],
             [
              0.2222222222222222,
              "#7201a8"
             ],
             [
              0.3333333333333333,
              "#9c179e"
             ],
             [
              0.4444444444444444,
              "#bd3786"
             ],
             [
              0.5555555555555556,
              "#d8576b"
             ],
             [
              0.6666666666666666,
              "#ed7953"
             ],
             [
              0.7777777777777778,
              "#fb9f3a"
             ],
             [
              0.8888888888888888,
              "#fdca26"
             ],
             [
              1,
              "#f0f921"
             ]
            ],
            "type": "histogram2dcontour"
           }
          ],
          "mesh3d": [
           {
            "colorbar": {
             "outlinewidth": 0,
             "ticks": ""
            },
            "type": "mesh3d"
           }
          ],
          "parcoords": [
           {
            "line": {
             "colorbar": {
              "outlinewidth": 0,
              "ticks": ""
             }
            },
            "type": "parcoords"
           }
          ],
          "pie": [
           {
            "automargin": true,
            "type": "pie"
           }
          ],
          "scatter": [
           {
            "marker": {
             "colorbar": {
              "outlinewidth": 0,
              "ticks": ""
             }
            },
            "type": "scatter"
           }
          ],
          "scatter3d": [
           {
            "line": {
             "colorbar": {
              "outlinewidth": 0,
              "ticks": ""
             }
            },
            "marker": {
             "colorbar": {
              "outlinewidth": 0,
              "ticks": ""
             }
            },
            "type": "scatter3d"
           }
          ],
          "scattercarpet": [
           {
            "marker": {
             "colorbar": {
              "outlinewidth": 0,
              "ticks": ""
             }
            },
            "type": "scattercarpet"
           }
          ],
          "scattergeo": [
           {
            "marker": {
             "colorbar": {
              "outlinewidth": 0,
              "ticks": ""
             }
            },
            "type": "scattergeo"
           }
          ],
          "scattergl": [
           {
            "marker": {
             "colorbar": {
              "outlinewidth": 0,
              "ticks": ""
             }
            },
            "type": "scattergl"
           }
          ],
          "scattermapbox": [
           {
            "marker": {
             "colorbar": {
              "outlinewidth": 0,
              "ticks": ""
             }
            },
            "type": "scattermapbox"
           }
          ],
          "scatterpolar": [
           {
            "marker": {
             "colorbar": {
              "outlinewidth": 0,
              "ticks": ""
             }
            },
            "type": "scatterpolar"
           }
          ],
          "scatterpolargl": [
           {
            "marker": {
             "colorbar": {
              "outlinewidth": 0,
              "ticks": ""
             }
            },
            "type": "scatterpolargl"
           }
          ],
          "scatterternary": [
           {
            "marker": {
             "colorbar": {
              "outlinewidth": 0,
              "ticks": ""
             }
            },
            "type": "scatterternary"
           }
          ],
          "surface": [
           {
            "colorbar": {
             "outlinewidth": 0,
             "ticks": ""
            },
            "colorscale": [
             [
              0,
              "#0d0887"
             ],
             [
              0.1111111111111111,
              "#46039f"
             ],
             [
              0.2222222222222222,
              "#7201a8"
             ],
             [
              0.3333333333333333,
              "#9c179e"
             ],
             [
              0.4444444444444444,
              "#bd3786"
             ],
             [
              0.5555555555555556,
              "#d8576b"
             ],
             [
              0.6666666666666666,
              "#ed7953"
             ],
             [
              0.7777777777777778,
              "#fb9f3a"
             ],
             [
              0.8888888888888888,
              "#fdca26"
             ],
             [
              1,
              "#f0f921"
             ]
            ],
            "type": "surface"
           }
          ],
          "table": [
           {
            "cells": {
             "fill": {
              "color": "#EBF0F8"
             },
             "line": {
              "color": "white"
             }
            },
            "header": {
             "fill": {
              "color": "#C8D4E3"
             },
             "line": {
              "color": "white"
             }
            },
            "type": "table"
           }
          ]
         },
         "layout": {
          "annotationdefaults": {
           "arrowcolor": "#2a3f5f",
           "arrowhead": 0,
           "arrowwidth": 1
          },
          "autotypenumbers": "strict",
          "coloraxis": {
           "colorbar": {
            "outlinewidth": 0,
            "ticks": ""
           }
          },
          "colorscale": {
           "diverging": [
            [
             0,
             "#8e0152"
            ],
            [
             0.1,
             "#c51b7d"
            ],
            [
             0.2,
             "#de77ae"
            ],
            [
             0.3,
             "#f1b6da"
            ],
            [
             0.4,
             "#fde0ef"
            ],
            [
             0.5,
             "#f7f7f7"
            ],
            [
             0.6,
             "#e6f5d0"
            ],
            [
             0.7,
             "#b8e186"
            ],
            [
             0.8,
             "#7fbc41"
            ],
            [
             0.9,
             "#4d9221"
            ],
            [
             1,
             "#276419"
            ]
           ],
           "sequential": [
            [
             0,
             "#0d0887"
            ],
            [
             0.1111111111111111,
             "#46039f"
            ],
            [
             0.2222222222222222,
             "#7201a8"
            ],
            [
             0.3333333333333333,
             "#9c179e"
            ],
            [
             0.4444444444444444,
             "#bd3786"
            ],
            [
             0.5555555555555556,
             "#d8576b"
            ],
            [
             0.6666666666666666,
             "#ed7953"
            ],
            [
             0.7777777777777778,
             "#fb9f3a"
            ],
            [
             0.8888888888888888,
             "#fdca26"
            ],
            [
             1,
             "#f0f921"
            ]
           ],
           "sequentialminus": [
            [
             0,
             "#0d0887"
            ],
            [
             0.1111111111111111,
             "#46039f"
            ],
            [
             0.2222222222222222,
             "#7201a8"
            ],
            [
             0.3333333333333333,
             "#9c179e"
            ],
            [
             0.4444444444444444,
             "#bd3786"
            ],
            [
             0.5555555555555556,
             "#d8576b"
            ],
            [
             0.6666666666666666,
             "#ed7953"
            ],
            [
             0.7777777777777778,
             "#fb9f3a"
            ],
            [
             0.8888888888888888,
             "#fdca26"
            ],
            [
             1,
             "#f0f921"
            ]
           ]
          },
          "colorway": [
           "#636efa",
           "#EF553B",
           "#00cc96",
           "#ab63fa",
           "#FFA15A",
           "#19d3f3",
           "#FF6692",
           "#B6E880",
           "#FF97FF",
           "#FECB52"
          ],
          "font": {
           "color": "#2a3f5f"
          },
          "geo": {
           "bgcolor": "white",
           "lakecolor": "white",
           "landcolor": "#E5ECF6",
           "showlakes": true,
           "showland": true,
           "subunitcolor": "white"
          },
          "hoverlabel": {
           "align": "left"
          },
          "hovermode": "closest",
          "mapbox": {
           "style": "light"
          },
          "paper_bgcolor": "white",
          "plot_bgcolor": "#E5ECF6",
          "polar": {
           "angularaxis": {
            "gridcolor": "white",
            "linecolor": "white",
            "ticks": ""
           },
           "bgcolor": "#E5ECF6",
           "radialaxis": {
            "gridcolor": "white",
            "linecolor": "white",
            "ticks": ""
           }
          },
          "scene": {
           "xaxis": {
            "backgroundcolor": "#E5ECF6",
            "gridcolor": "white",
            "gridwidth": 2,
            "linecolor": "white",
            "showbackground": true,
            "ticks": "",
            "zerolinecolor": "white"
           },
           "yaxis": {
            "backgroundcolor": "#E5ECF6",
            "gridcolor": "white",
            "gridwidth": 2,
            "linecolor": "white",
            "showbackground": true,
            "ticks": "",
            "zerolinecolor": "white"
           },
           "zaxis": {
            "backgroundcolor": "#E5ECF6",
            "gridcolor": "white",
            "gridwidth": 2,
            "linecolor": "white",
            "showbackground": true,
            "ticks": "",
            "zerolinecolor": "white"
           }
          },
          "shapedefaults": {
           "line": {
            "color": "#2a3f5f"
           }
          },
          "ternary": {
           "aaxis": {
            "gridcolor": "white",
            "linecolor": "white",
            "ticks": ""
           },
           "baxis": {
            "gridcolor": "white",
            "linecolor": "white",
            "ticks": ""
           },
           "bgcolor": "#E5ECF6",
           "caxis": {
            "gridcolor": "white",
            "linecolor": "white",
            "ticks": ""
           }
          },
          "title": {
           "x": 0.05
          },
          "xaxis": {
           "automargin": true,
           "gridcolor": "white",
           "linecolor": "white",
           "ticks": "",
           "title": {
            "standoff": 15
           },
           "zerolinecolor": "white",
           "zerolinewidth": 2
          },
          "yaxis": {
           "automargin": true,
           "gridcolor": "white",
           "linecolor": "white",
           "ticks": "",
           "title": {
            "standoff": 15
           },
           "zerolinecolor": "white",
           "zerolinewidth": 2
          }
         }
        },
        "title": {
         "text": "Contour Plot"
        },
        "xaxis": {
         "range": [
          0.55,
          10.45
         ],
         "title": {
          "text": "_depth"
         }
        },
        "yaxis": {
         "range": [
          -0.004,
          0.524
         ],
         "title": {
          "text": "learning_rate"
         }
        }
       }
      },
      "text/html": [
       "<div>                            <div id=\"6a7c7fa1-45cc-442a-bb53-d343130c631b\" class=\"plotly-graph-div\" style=\"height:525px; width:100%;\"></div>            <script type=\"text/javascript\">                require([\"plotly\"], function(Plotly) {                    window.PLOTLYENV=window.PLOTLYENV || {};                                    if (document.getElementById(\"6a7c7fa1-45cc-442a-bb53-d343130c631b\")) {                    Plotly.newPlot(                        \"6a7c7fa1-45cc-442a-bb53-d343130c631b\",                        [{\"colorbar\":{\"title\":{\"text\":\"Objective Value\"}},\"colorscale\":[[0,\"rgb(5,10,172)\"],[0.35,\"rgb(40,60,190)\"],[0.5,\"rgb(70,100,245)\"],[0.6,\"rgb(90,120,245)\"],[0.7,\"rgb(106,137,247)\"],[1,\"rgb(220,220,220)\"]],\"connectgaps\":true,\"contours\":{\"coloring\":\"heatmap\"},\"hoverinfo\":\"none\",\"line\":{\"smoothing\":1.3},\"reversescale\":false,\"x\":[0.55,1,2,3,4,5,6,7,8,9,10,10.45],\"y\":[-0.004,0.02,0.06,0.1,0.12000000000000001,0.13999999999999999,0.16,0.18,0.19999999999999998,0.22,0.24,0.26,0.28,0.30000000000000004,0.32,0.34,0.36000000000000004,0.38,0.4,0.44,0.46,0.5,0.524],\"z\":[[null,null,null,null,null,null,null,null,null,null,null,null],[null,null,null,null,null,0.9675433120879602,null,null,null,0.9698047396894233,null,null],[null,null,null,null,0.9676993670192959,null,null,0.9678554219506318,null,null,null,null],[null,null,null,0.9676993670192959,0.9769586262785553,null,0.9696486847580874,null,null,null,null,null],[null,null,null,null,null,0.9678554219506318,null,null,null,null,null,null],[null,null,0.9675433120879602,null,null,null,null,null,0.9717540574282147,0.9698047396894233,null,null],[null,null,0.9769586262785553,0.9771146812098911,null,0.9769586262785553,null,null,null,null,null,null],[null,0.9358083097882033,null,0.9678554219506318,null,0.9771146812098911,null,null,0.9698047396894233,0.9698047396894233,null,null],[null,null,null,0.9771146812098911,null,0.9771146812098911,0.9678554219506318,null,0.9771146812098911,0.9698047396894233,0.9698047396894233,null],[null,null,0.9675433120879602,0.9678554219506318,null,0.9678554219506318,0.9771146812098911,0.9678554219506318,0.9771146812098911,0.9698047396894233,0.9698047396894233,null],[null,null,null,0.9559158508005344,0.9678554219506318,null,0.9751653634710996,0.9698047396894233,0.9771146812098911,0.9717540574282147,0.9698047396894233,null],[null,null,0.9676993670192959,null,0.9538104781304071,null,0.9570529528148294,0.9790639989486826,0.9698047396894233,0.9717540574282147,0.9653301694253794,null],[null,0.9492180044368099,null,0.9678554219506318,0.9676993670192959,0.9497430112943616,0.9653301694253794,0.9678554219506318,0.9698047396894233,0.9717540574282147,0.9698047396894233,null],[null,null,0.9771146812098911,0.9744333737533027,0.9790639989486826,null,0.9698047396894233,0.9698047396894233,0.9698047396894233,0.9699607946207591,null,null],[null,null,0.9769586262785553,0.9636319001832505,0.9651751100597937,0.9653301694253794,0.9559158508005344,null,0.9698047396894233,0.9771146812098911,0.9698047396894233,null],[null,null,null,0.9771146812098911,0.9696486847580874,null,null,null,null,0.9717540574282147,null,null],[null,null,0.9653301694253794,null,0.9672794871641707,null,null,0.9728911594425098,null,null,null,null],[null,null,null,0.9769586262785553,null,null,0.9607005397957497,null,null,null,null,null],[null,0.9742773188219669,null,null,null,0.953041232920003,null,null,null,0.9636319001832505,null,null],[null,null,null,null,null,null,null,null,null,null,0.9658364857211694,null],[null,null,null,0.9556890822562022,null,null,null,null,null,0.9430254788031252,null,null],[null,0.9531862584050638,null,null,null,null,null,0.8981422790510116,null,null,null,null],[null,null,null,null,null,null,null,null,null,null,null,null]],\"type\":\"contour\"},{\"marker\":{\"color\":\"black\",\"line\":{\"color\":\"Grey\",\"width\":0.5}},\"mode\":\"markers\",\"showlegend\":false,\"x\":[5,9,6,9,5,6,3,4,6,8,1,3,3,3,1,4,2,4,7,4,2,3,2,4,3,5,5,7,10,5,5,7,7,8,7,8,6,4,6,5,9,9,10,9,9,9,8,10,8,6,10,9,4,9,3,2,4,3,5,7,3,3,2,7,4,1,3,6,4,5,2,5,8,8,8,2,9,9,9,8,10,7,9,7,8,8,9,7,6,10,9,5,3,3,8,4,4,7,4,9,6,4,3,4,3,5,10,8,9,9,10,9,9,2,8,9,9,9,9,10,10,10,9,8,8,9,9,9,10,7,10,9,8,9,10,9,9,8,9,7,7,7,7,8,9,9,9,7,9,6,7,3,6,9,9,7,7,3,10,8,8,9,7,9,7,7,8,7,7,7,6,7,7,7,8,7,6,6,9,7,9,7,8,7,7,1,8,7,9,10,7,3,7,4,9,7,7,9,9,7,7,9,7,7,7,9,7,5,9,7,7,9,7,7,7,7,7,8,7,7,6,7,7,6,8,7,3,7,7,9,7,7,7,9,7,7,7,7,7,9],\"y\":[0.28,0.02,0.24,0.4,0.12000000000000001,0.28,0.46,0.30000000000000004,0.30000000000000004,0.13999999999999999,0.4,0.18,0.19999999999999998,0.34,0.18,0.06,0.22,0.36000000000000004,0.5,0.1,0.32,0.34,0.36000000000000004,0.24,0.34,0.19999999999999998,0.4,0.26,0.44,0.28,0.16,0.24,0.22,0.30000000000000004,0.26,0.24,0.19999999999999998,0.28,0.1,0.32,0.26,0.26,0.26,0.30000000000000004,0.19999999999999998,0.13999999999999999,0.26,0.22,0.18,0.38,0.28,0.32,0.34,0.24,0.30000000000000004,0.30000000000000004,0.26,0.22,0.02,0.30000000000000004,0.16,0.16,0.16,0.24,0.36000000000000004,0.28,0.1,0.26,0.34,0.18,0.13999999999999999,0.19999999999999998,0.24,0.22,0.22,0.30000000000000004,0.32,0.32,0.28,0.32,0.24,0.26,0.28,0.26,0.26,0.19999999999999998,0.30000000000000004,0.36000000000000004,0.24,0.32,0.26,0.22,0.38,0.30000000000000004,0.28,0.30000000000000004,0.30000000000000004,0.24,0.26,0.34,0.28,0.30000000000000004,0.32,0.30000000000000004,0.28,0.32,0.24,0.28,0.30000000000000004,0.26,0.32,0.30000000000000004,0.34,0.26,0.30000000000000004,0.28,0.28,0.26,0.28,0.24,0.24,0.28,0.22,0.22,0.22,0.19999999999999998,0.46,0.18,0.24,0.22,0.19999999999999998,0.26,0.18,0.22,0.24,0.26,0.28,0.19999999999999998,0.24,0.26,0.26,0.26,0.24,0.22,0.30000000000000004,0.28,0.30000000000000004,0.26,0.28,0.24,0.26,0.32,0.26,0.28,0.24,0.22,0.28,0.30000000000000004,0.26,0.26,0.19999999999999998,0.24,0.26,0.30000000000000004,0.28,0.22,0.26,0.26,0.24,0.28,0.32,0.28,0.28,0.28,0.30000000000000004,0.24,0.32,0.28,0.28,0.26,0.22,0.26,0.24,0.26,0.26,0.5,0.24,0.26,0.30000000000000004,0.24,0.26,0.30000000000000004,0.28,0.32,0.26,0.28,0.26,0.24,0.30000000000000004,0.28,0.26,0.28,0.26,0.28,0.26,0.22,0.26,0.19999999999999998,0.24,0.26,0.28,0.24,0.26,0.26,0.26,0.26,0.28,0.30000000000000004,0.28,0.28,0.30000000000000004,0.28,0.26,0.22,0.24,0.26,0.24,0.24,0.26,0.32,0.26,0.28,0.26,0.28,0.06,0.26,0.26,0.26,0.26,0.30000000000000004],\"type\":\"scatter\"}],                        {\"title\":{\"text\":\"Contour Plot\"},\"template\":{\"data\":{\"bar\":[{\"error_x\":{\"color\":\"#2a3f5f\"},\"error_y\":{\"color\":\"#2a3f5f\"},\"marker\":{\"line\":{\"color\":\"#E5ECF6\",\"width\":0.5},\"pattern\":{\"fillmode\":\"overlay\",\"size\":10,\"solidity\":0.2}},\"type\":\"bar\"}],\"barpolar\":[{\"marker\":{\"line\":{\"color\":\"#E5ECF6\",\"width\":0.5},\"pattern\":{\"fillmode\":\"overlay\",\"size\":10,\"solidity\":0.2}},\"type\":\"barpolar\"}],\"carpet\":[{\"aaxis\":{\"endlinecolor\":\"#2a3f5f\",\"gridcolor\":\"white\",\"linecolor\":\"white\",\"minorgridcolor\":\"white\",\"startlinecolor\":\"#2a3f5f\"},\"baxis\":{\"endlinecolor\":\"#2a3f5f\",\"gridcolor\":\"white\",\"linecolor\":\"white\",\"minorgridcolor\":\"white\",\"startlinecolor\":\"#2a3f5f\"},\"type\":\"carpet\"}],\"choropleth\":[{\"colorbar\":{\"outlinewidth\":0,\"ticks\":\"\"},\"type\":\"choropleth\"}],\"contour\":[{\"colorbar\":{\"outlinewidth\":0,\"ticks\":\"\"},\"colorscale\":[[0.0,\"#0d0887\"],[0.1111111111111111,\"#46039f\"],[0.2222222222222222,\"#7201a8\"],[0.3333333333333333,\"#9c179e\"],[0.4444444444444444,\"#bd3786\"],[0.5555555555555556,\"#d8576b\"],[0.6666666666666666,\"#ed7953\"],[0.7777777777777778,\"#fb9f3a\"],[0.8888888888888888,\"#fdca26\"],[1.0,\"#f0f921\"]],\"type\":\"contour\"}],\"contourcarpet\":[{\"colorbar\":{\"outlinewidth\":0,\"ticks\":\"\"},\"type\":\"contourcarpet\"}],\"heatmap\":[{\"colorbar\":{\"outlinewidth\":0,\"ticks\":\"\"},\"colorscale\":[[0.0,\"#0d0887\"],[0.1111111111111111,\"#46039f\"],[0.2222222222222222,\"#7201a8\"],[0.3333333333333333,\"#9c179e\"],[0.4444444444444444,\"#bd3786\"],[0.5555555555555556,\"#d8576b\"],[0.6666666666666666,\"#ed7953\"],[0.7777777777777778,\"#fb9f3a\"],[0.8888888888888888,\"#fdca26\"],[1.0,\"#f0f921\"]],\"type\":\"heatmap\"}],\"heatmapgl\":[{\"colorbar\":{\"outlinewidth\":0,\"ticks\":\"\"},\"colorscale\":[[0.0,\"#0d0887\"],[0.1111111111111111,\"#46039f\"],[0.2222222222222222,\"#7201a8\"],[0.3333333333333333,\"#9c179e\"],[0.4444444444444444,\"#bd3786\"],[0.5555555555555556,\"#d8576b\"],[0.6666666666666666,\"#ed7953\"],[0.7777777777777778,\"#fb9f3a\"],[0.8888888888888888,\"#fdca26\"],[1.0,\"#f0f921\"]],\"type\":\"heatmapgl\"}],\"histogram\":[{\"marker\":{\"pattern\":{\"fillmode\":\"overlay\",\"size\":10,\"solidity\":0.2}},\"type\":\"histogram\"}],\"histogram2d\":[{\"colorbar\":{\"outlinewidth\":0,\"ticks\":\"\"},\"colorscale\":[[0.0,\"#0d0887\"],[0.1111111111111111,\"#46039f\"],[0.2222222222222222,\"#7201a8\"],[0.3333333333333333,\"#9c179e\"],[0.4444444444444444,\"#bd3786\"],[0.5555555555555556,\"#d8576b\"],[0.6666666666666666,\"#ed7953\"],[0.7777777777777778,\"#fb9f3a\"],[0.8888888888888888,\"#fdca26\"],[1.0,\"#f0f921\"]],\"type\":\"histogram2d\"}],\"histogram2dcontour\":[{\"colorbar\":{\"outlinewidth\":0,\"ticks\":\"\"},\"colorscale\":[[0.0,\"#0d0887\"],[0.1111111111111111,\"#46039f\"],[0.2222222222222222,\"#7201a8\"],[0.3333333333333333,\"#9c179e\"],[0.4444444444444444,\"#bd3786\"],[0.5555555555555556,\"#d8576b\"],[0.6666666666666666,\"#ed7953\"],[0.7777777777777778,\"#fb9f3a\"],[0.8888888888888888,\"#fdca26\"],[1.0,\"#f0f921\"]],\"type\":\"histogram2dcontour\"}],\"mesh3d\":[{\"colorbar\":{\"outlinewidth\":0,\"ticks\":\"\"},\"type\":\"mesh3d\"}],\"parcoords\":[{\"line\":{\"colorbar\":{\"outlinewidth\":0,\"ticks\":\"\"}},\"type\":\"parcoords\"}],\"pie\":[{\"automargin\":true,\"type\":\"pie\"}],\"scatter\":[{\"marker\":{\"colorbar\":{\"outlinewidth\":0,\"ticks\":\"\"}},\"type\":\"scatter\"}],\"scatter3d\":[{\"line\":{\"colorbar\":{\"outlinewidth\":0,\"ticks\":\"\"}},\"marker\":{\"colorbar\":{\"outlinewidth\":0,\"ticks\":\"\"}},\"type\":\"scatter3d\"}],\"scattercarpet\":[{\"marker\":{\"colorbar\":{\"outlinewidth\":0,\"ticks\":\"\"}},\"type\":\"scattercarpet\"}],\"scattergeo\":[{\"marker\":{\"colorbar\":{\"outlinewidth\":0,\"ticks\":\"\"}},\"type\":\"scattergeo\"}],\"scattergl\":[{\"marker\":{\"colorbar\":{\"outlinewidth\":0,\"ticks\":\"\"}},\"type\":\"scattergl\"}],\"scattermapbox\":[{\"marker\":{\"colorbar\":{\"outlinewidth\":0,\"ticks\":\"\"}},\"type\":\"scattermapbox\"}],\"scatterpolar\":[{\"marker\":{\"colorbar\":{\"outlinewidth\":0,\"ticks\":\"\"}},\"type\":\"scatterpolar\"}],\"scatterpolargl\":[{\"marker\":{\"colorbar\":{\"outlinewidth\":0,\"ticks\":\"\"}},\"type\":\"scatterpolargl\"}],\"scatterternary\":[{\"marker\":{\"colorbar\":{\"outlinewidth\":0,\"ticks\":\"\"}},\"type\":\"scatterternary\"}],\"surface\":[{\"colorbar\":{\"outlinewidth\":0,\"ticks\":\"\"},\"colorscale\":[[0.0,\"#0d0887\"],[0.1111111111111111,\"#46039f\"],[0.2222222222222222,\"#7201a8\"],[0.3333333333333333,\"#9c179e\"],[0.4444444444444444,\"#bd3786\"],[0.5555555555555556,\"#d8576b\"],[0.6666666666666666,\"#ed7953\"],[0.7777777777777778,\"#fb9f3a\"],[0.8888888888888888,\"#fdca26\"],[1.0,\"#f0f921\"]],\"type\":\"surface\"}],\"table\":[{\"cells\":{\"fill\":{\"color\":\"#EBF0F8\"},\"line\":{\"color\":\"white\"}},\"header\":{\"fill\":{\"color\":\"#C8D4E3\"},\"line\":{\"color\":\"white\"}},\"type\":\"table\"}]},\"layout\":{\"annotationdefaults\":{\"arrowcolor\":\"#2a3f5f\",\"arrowhead\":0,\"arrowwidth\":1},\"autotypenumbers\":\"strict\",\"coloraxis\":{\"colorbar\":{\"outlinewidth\":0,\"ticks\":\"\"}},\"colorscale\":{\"diverging\":[[0,\"#8e0152\"],[0.1,\"#c51b7d\"],[0.2,\"#de77ae\"],[0.3,\"#f1b6da\"],[0.4,\"#fde0ef\"],[0.5,\"#f7f7f7\"],[0.6,\"#e6f5d0\"],[0.7,\"#b8e186\"],[0.8,\"#7fbc41\"],[0.9,\"#4d9221\"],[1,\"#276419\"]],\"sequential\":[[0.0,\"#0d0887\"],[0.1111111111111111,\"#46039f\"],[0.2222222222222222,\"#7201a8\"],[0.3333333333333333,\"#9c179e\"],[0.4444444444444444,\"#bd3786\"],[0.5555555555555556,\"#d8576b\"],[0.6666666666666666,\"#ed7953\"],[0.7777777777777778,\"#fb9f3a\"],[0.8888888888888888,\"#fdca26\"],[1.0,\"#f0f921\"]],\"sequentialminus\":[[0.0,\"#0d0887\"],[0.1111111111111111,\"#46039f\"],[0.2222222222222222,\"#7201a8\"],[0.3333333333333333,\"#9c179e\"],[0.4444444444444444,\"#bd3786\"],[0.5555555555555556,\"#d8576b\"],[0.6666666666666666,\"#ed7953\"],[0.7777777777777778,\"#fb9f3a\"],[0.8888888888888888,\"#fdca26\"],[1.0,\"#f0f921\"]]},\"colorway\":[\"#636efa\",\"#EF553B\",\"#00cc96\",\"#ab63fa\",\"#FFA15A\",\"#19d3f3\",\"#FF6692\",\"#B6E880\",\"#FF97FF\",\"#FECB52\"],\"font\":{\"color\":\"#2a3f5f\"},\"geo\":{\"bgcolor\":\"white\",\"lakecolor\":\"white\",\"landcolor\":\"#E5ECF6\",\"showlakes\":true,\"showland\":true,\"subunitcolor\":\"white\"},\"hoverlabel\":{\"align\":\"left\"},\"hovermode\":\"closest\",\"mapbox\":{\"style\":\"light\"},\"paper_bgcolor\":\"white\",\"plot_bgcolor\":\"#E5ECF6\",\"polar\":{\"angularaxis\":{\"gridcolor\":\"white\",\"linecolor\":\"white\",\"ticks\":\"\"},\"bgcolor\":\"#E5ECF6\",\"radialaxis\":{\"gridcolor\":\"white\",\"linecolor\":\"white\",\"ticks\":\"\"}},\"scene\":{\"xaxis\":{\"backgroundcolor\":\"#E5ECF6\",\"gridcolor\":\"white\",\"gridwidth\":2,\"linecolor\":\"white\",\"showbackground\":true,\"ticks\":\"\",\"zerolinecolor\":\"white\"},\"yaxis\":{\"backgroundcolor\":\"#E5ECF6\",\"gridcolor\":\"white\",\"gridwidth\":2,\"linecolor\":\"white\",\"showbackground\":true,\"ticks\":\"\",\"zerolinecolor\":\"white\"},\"zaxis\":{\"backgroundcolor\":\"#E5ECF6\",\"gridcolor\":\"white\",\"gridwidth\":2,\"linecolor\":\"white\",\"showbackground\":true,\"ticks\":\"\",\"zerolinecolor\":\"white\"}},\"shapedefaults\":{\"line\":{\"color\":\"#2a3f5f\"}},\"ternary\":{\"aaxis\":{\"gridcolor\":\"white\",\"linecolor\":\"white\",\"ticks\":\"\"},\"baxis\":{\"gridcolor\":\"white\",\"linecolor\":\"white\",\"ticks\":\"\"},\"bgcolor\":\"#E5ECF6\",\"caxis\":{\"gridcolor\":\"white\",\"linecolor\":\"white\",\"ticks\":\"\"}},\"title\":{\"x\":0.05},\"xaxis\":{\"automargin\":true,\"gridcolor\":\"white\",\"linecolor\":\"white\",\"ticks\":\"\",\"title\":{\"standoff\":15},\"zerolinecolor\":\"white\",\"zerolinewidth\":2},\"yaxis\":{\"automargin\":true,\"gridcolor\":\"white\",\"linecolor\":\"white\",\"ticks\":\"\",\"title\":{\"standoff\":15},\"zerolinecolor\":\"white\",\"zerolinewidth\":2}}},\"xaxis\":{\"title\":{\"text\":\"_depth\"},\"range\":[0.55,10.45]},\"yaxis\":{\"title\":{\"text\":\"learning_rate\"},\"range\":[-0.004,0.524]}},                        {\"responsive\": true}                    ).then(function(){\n",
       "                            \n",
       "var gd = document.getElementById('6a7c7fa1-45cc-442a-bb53-d343130c631b');\n",
       "var x = new MutationObserver(function (mutations, observer) {{\n",
       "        var display = window.getComputedStyle(gd).display;\n",
       "        if (!display || display === 'none') {{\n",
       "            console.log([gd, 'removed!']);\n",
       "            Plotly.purge(gd);\n",
       "            observer.disconnect();\n",
       "        }}\n",
       "}});\n",
       "\n",
       "// Listen for the removal of the full notebook cells\n",
       "var notebookContainer = gd.closest('#notebook-container');\n",
       "if (notebookContainer) {{\n",
       "    x.observe(notebookContainer, {childList: true});\n",
       "}}\n",
       "\n",
       "// Listen for the clearing of the current output cell\n",
       "var outputEl = gd.closest('.output');\n",
       "if (outputEl) {{\n",
       "    x.observe(outputEl, {childList: true});\n",
       "}}\n",
       "\n",
       "                        })                };                });            </script>        </div>"
      ]
     },
     "metadata": {},
     "output_type": "display_data"
    }
   ],
   "source": [
    "optuna.visualization.plot_contour(study, params=['learning_rate','_depth'])"
   ]
  },
  {
   "cell_type": "code",
   "execution_count": 265,
   "id": "92979f47",
   "metadata": {},
   "outputs": [
    {
     "data": {
      "text/plain": [
       "{'learning_rate': 0.26, '_depth': 9}"
      ]
     },
     "execution_count": 265,
     "metadata": {},
     "output_type": "execute_result"
    }
   ],
   "source": [
    "study.best_params"
   ]
  },
  {
   "cell_type": "code",
   "execution_count": 272,
   "id": "f1dd04fb",
   "metadata": {},
   "outputs": [
    {
     "data": {
      "application/vnd.jupyter.widget-view+json": {
       "model_id": "abb0ec716183456d86a36b9dd6ecb173",
       "version_major": 2,
       "version_minor": 0
      },
      "text/plain": [
       "MetricVisualizer(layout=Layout(align_self='stretch', height='500px'))"
      ]
     },
     "metadata": {},
     "output_type": "display_data"
    },
    {
     "name": "stderr",
     "output_type": "stream",
     "text": [
      "Found only 9 unique classes in the data, but have defined 624222 classes. Probably something is wrong with data.\n"
     ]
    },
    {
     "data": {
      "text/plain": [
       "<catboost.core.CatBoostClassifier at 0x27cbfce6a90>"
      ]
     },
     "execution_count": 272,
     "metadata": {},
     "output_type": "execute_result"
    }
   ],
   "source": [
    "catboost_params = {\n",
    "    'learning_rate':0.26,\n",
    "    'depth': 9,\n",
    "    'random_state':1,\n",
    "    'iterations': 3000,\n",
    "    'task_type': 'GPU',\n",
    "    'early_stopping_rounds': 10,\n",
    "    'use_best_model': True,\n",
    "    'verbose': False,\n",
    "    'class_names': y_train\n",
    "}\n",
    "model = CatBoostClassifier(**catboost_params)\n",
    "model.fit(pool_train, eval_set = pool_test, plot=True)#, save_snapshot=True)"
   ]
  },
  {
   "cell_type": "code",
   "execution_count": 273,
   "id": "e2fd0a86",
   "metadata": {},
   "outputs": [
    {
     "name": "stdout",
     "output_type": "stream",
     "text": [
      "CPU times: total: 55.2 s\n",
      "Wall time: 42.9 s\n"
     ]
    }
   ],
   "source": [
    "%%time\n",
    "#y_pred = model.predict(X_test[0:20],prediction_type = 'Probability')\n",
    "y_pred = model.predict(X_eval,prediction_type = 'Class')\n",
    "\n",
    "test_pred = y_eval"
   ]
  },
  {
   "cell_type": "code",
   "execution_count": 274,
   "id": "3aa99322",
   "metadata": {},
   "outputs": [
    {
     "name": "stdout",
     "output_type": "stream",
     "text": [
      "Recall score: 0.9717540574282147\n"
     ]
    }
   ],
   "source": [
    "#На локальном тестировании модель выдаёт такой результат\n",
    "score = recall_score(test_pred, y_pred, average='macro')\n",
    "print(\"Recall score:\", score)"
   ]
  },
  {
   "cell_type": "code",
   "execution_count": 267,
   "id": "08f14b83",
   "metadata": {},
   "outputs": [
    {
     "name": "stdout",
     "output_type": "stream",
     "text": [
      "CPU times: total: 1d 13h 37s\n",
      "Wall time: 1d 12h 51min 25s\n"
     ]
    }
   ],
   "source": [
    "%%time\n",
    "test['groups'] = test['name'].map(lambda b: model.predict([b],prediction_type = 'Class')[0]) "
   ]
  },
  {
   "cell_type": "code",
   "execution_count": 268,
   "id": "82cda7c3",
   "metadata": {
    "scrolled": true
   },
   "outputs": [],
   "source": [
    "test['groups'] = test['groups'].map(lambda b: str(b)+\".0\")"
   ]
  },
  {
   "cell_type": "code",
   "execution_count": 269,
   "id": "ecaa6d1a",
   "metadata": {},
   "outputs": [],
   "source": [
    "test['groups'].to_csv('sub.csv')"
   ]
  },
  {
   "cell_type": "code",
   "execution_count": 270,
   "id": "ba291bf3",
   "metadata": {},
   "outputs": [],
   "source": [
    "sub= pd.read_csv(\"sub.csv\",index_col = 'id')"
   ]
  },
  {
   "cell_type": "code",
   "execution_count": 271,
   "id": "25beb3cb",
   "metadata": {},
   "outputs": [
    {
     "data": {
      "text/html": [
       "<div>\n",
       "<style scoped>\n",
       "    .dataframe tbody tr th:only-of-type {\n",
       "        vertical-align: middle;\n",
       "    }\n",
       "\n",
       "    .dataframe tbody tr th {\n",
       "        vertical-align: top;\n",
       "    }\n",
       "\n",
       "    .dataframe thead th {\n",
       "        text-align: right;\n",
       "    }\n",
       "</style>\n",
       "<table border=\"1\" class=\"dataframe\">\n",
       "  <thead>\n",
       "    <tr style=\"text-align: right;\">\n",
       "      <th></th>\n",
       "      <th>groups</th>\n",
       "    </tr>\n",
       "    <tr>\n",
       "      <th>id</th>\n",
       "      <th></th>\n",
       "    </tr>\n",
       "  </thead>\n",
       "  <tbody>\n",
       "    <tr>\n",
       "      <th>10529</th>\n",
       "      <td>10.0</td>\n",
       "    </tr>\n",
       "    <tr>\n",
       "      <th>10530</th>\n",
       "      <td>10.0</td>\n",
       "    </tr>\n",
       "    <tr>\n",
       "      <th>10531</th>\n",
       "      <td>10.0</td>\n",
       "    </tr>\n",
       "    <tr>\n",
       "      <th>10532</th>\n",
       "      <td>0.0</td>\n",
       "    </tr>\n",
       "    <tr>\n",
       "      <th>10533</th>\n",
       "      <td>10.0</td>\n",
       "    </tr>\n",
       "    <tr>\n",
       "      <th>...</th>\n",
       "      <td>...</td>\n",
       "    </tr>\n",
       "    <tr>\n",
       "      <th>292751</th>\n",
       "      <td>10.0</td>\n",
       "    </tr>\n",
       "    <tr>\n",
       "      <th>292752</th>\n",
       "      <td>7.0</td>\n",
       "    </tr>\n",
       "    <tr>\n",
       "      <th>292753</th>\n",
       "      <td>10.0</td>\n",
       "    </tr>\n",
       "    <tr>\n",
       "      <th>292754</th>\n",
       "      <td>10.0</td>\n",
       "    </tr>\n",
       "    <tr>\n",
       "      <th>292755</th>\n",
       "      <td>10.0</td>\n",
       "    </tr>\n",
       "  </tbody>\n",
       "</table>\n",
       "<p>282227 rows × 1 columns</p>\n",
       "</div>"
      ],
      "text/plain": [
       "        groups\n",
       "id            \n",
       "10529     10.0\n",
       "10530     10.0\n",
       "10531     10.0\n",
       "10532      0.0\n",
       "10533     10.0\n",
       "...        ...\n",
       "292751    10.0\n",
       "292752     7.0\n",
       "292753    10.0\n",
       "292754    10.0\n",
       "292755    10.0\n",
       "\n",
       "[282227 rows x 1 columns]"
      ]
     },
     "execution_count": 271,
     "metadata": {},
     "output_type": "execute_result"
    }
   ],
   "source": [
    "sub"
   ]
  },
  {
   "cell_type": "code",
   "execution_count": 248,
   "id": "74b5c17a",
   "metadata": {},
   "outputs": [],
   "source": [
    "sub.to_csv(\"sub.csv\")"
   ]
  },
  {
   "cell_type": "code",
   "execution_count": null,
   "id": "a7e64171",
   "metadata": {},
   "outputs": [],
   "source": []
  }
 ],
 "metadata": {
  "kernelspec": {
   "display_name": "Python 3 (ipykernel)",
   "language": "python",
   "name": "python3"
  },
  "language_info": {
   "codemirror_mode": {
    "name": "ipython",
    "version": 3
   },
   "file_extension": ".py",
   "mimetype": "text/x-python",
   "name": "python",
   "nbconvert_exporter": "python",
   "pygments_lexer": "ipython3",
   "version": "3.9.12"
  }
 },
 "nbformat": 4,
 "nbformat_minor": 5
}
